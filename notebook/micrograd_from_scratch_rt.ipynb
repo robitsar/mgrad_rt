{
 "cells": [
  {
   "cell_type": "code",
   "execution_count": 1,
   "metadata": {},
   "outputs": [],
   "source": [
    "import math\n",
    "import numpy as np\n",
    "import matplotlib.pyplot as plt\n",
    "%matplotlib inline"
   ]
  },
  {
   "cell_type": "markdown",
   "metadata": {},
   "source": [
    "**what a derivative is and what information this tool provides:**\n",
    "\n",
    "The derivative is the instantaneous rate of change of a function with respect to one of its variables. This is equivalent to finding the slope of the tangent line to the function at a point."
   ]
  },
  {
   "cell_type": "code",
   "execution_count": 2,
   "metadata": {},
   "outputs": [],
   "source": [
    "#This is a scalar function: get single scalar x and returns a single scalar\n",
    "#It is the equation of a parabola quatratic \n",
    "def f(x):\n",
    "    return 3*x**2 - 4*x + 5"
   ]
  },
  {
   "cell_type": "code",
   "execution_count": 3,
   "metadata": {},
   "outputs": [
    {
     "name": "stdout",
     "output_type": "stream",
     "text": [
      "20.0\n"
     ]
    }
   ],
   "source": [
    "print(f(3.0))"
   ]
  },
  {
   "cell_type": "markdown",
   "metadata": {},
   "source": [
    "Plot the function to understand its shape"
   ]
  },
  {
   "cell_type": "code",
   "execution_count": 4,
   "metadata": {},
   "outputs": [
    {
     "data": {
      "text/plain": [
       "array([100.    ,  91.6875,  83.75  ,  76.1875,  69.    ,  62.1875,\n",
       "        55.75  ,  49.6875,  44.    ,  38.6875,  33.75  ,  29.1875,\n",
       "        25.    ,  21.1875,  17.75  ,  14.6875,  12.    ,   9.6875,\n",
       "         7.75  ,   6.1875,   5.    ,   4.1875,   3.75  ,   3.6875,\n",
       "         4.    ,   4.6875,   5.75  ,   7.1875,   9.    ,  11.1875,\n",
       "        13.75  ,  16.6875,  20.    ,  23.6875,  27.75  ,  32.1875,\n",
       "        37.    ,  42.1875,  47.75  ,  53.6875])"
      ]
     },
     "execution_count": 4,
     "metadata": {},
     "output_type": "execute_result"
    }
   ],
   "source": [
    "#let create a list of scalars\n",
    "xs = np.arange (-5,5,0.25)\n",
    "#xs\n",
    "ys = f(xs)\n",
    "ys"
   ]
  },
  {
   "cell_type": "code",
   "execution_count": 5,
   "metadata": {},
   "outputs": [
    {
     "name": "stdout",
     "output_type": "stream",
     "text": [
      "[100.      91.6875  83.75    76.1875  69.      62.1875  55.75    49.6875\n",
      "  44.      38.6875  33.75    29.1875  25.      21.1875  17.75    14.6875\n",
      "  12.       9.6875   7.75     6.1875   5.       4.1875   3.75     3.6875\n",
      "   4.       4.6875   5.75     7.1875   9.      11.1875  13.75    16.6875\n",
      "  20.      23.6875  27.75    32.1875  37.      42.1875  47.75    53.6875]\n"
     ]
    }
   ],
   "source": [
    "print (ys)"
   ]
  },
  {
   "cell_type": "code",
   "execution_count": 6,
   "metadata": {},
   "outputs": [
    {
     "data": {
      "text/plain": [
       "[<matplotlib.lines.Line2D at 0x10cbbfcd0>]"
      ]
     },
     "execution_count": 6,
     "metadata": {},
     "output_type": "execute_result"
    },
    {
     "data": {
      "image/png": "[encoded data removed]",
      "text/plain": [
       "<Figure size 640x480 with 1 Axes>"
      ]
     },
     "metadata": {},
     "output_type": "display_data"
    }
   ],
   "source": [
    "plt.plot(xs,ys)"
   ]
  },
  {
   "cell_type": "markdown",
   "metadata": {},
   "source": [
    "Question: what is the derivative of this functions at any single input point x ? What is the derivative at different points x of this function? \n",
    "What the derivative is measuring and what it's telling about the function?\n",
    "\n",
    "If we slight change the at some point a small number h how does the function respond.\n",
    "What is the sensitivity of the slope at that point? it is going down and up and by how much?\n",
    "\n",
    "L = lim (h->0) (f(a+h) - f(a))/h"
   ]
  },
  {
   "cell_type": "code",
   "execution_count": 7,
   "metadata": {},
   "outputs": [
    {
     "data": {
      "text/plain": [
       "2.999378523327323e-06"
      ]
     },
     "execution_count": 7,
     "metadata": {},
     "output_type": "execute_result"
    }
   ],
   "source": [
    "\n",
    "# 3*x**2 - 4*x + 5 = 6X - 4 => 6*3 - 4 = 18 - 4 = 14\n",
    "h = 0.000001\n",
    "x = 2/3\n",
    "(f(x+h) - f(x))/h"
   ]
  },
  {
   "cell_type": "code",
   "execution_count": 8,
   "metadata": {},
   "outputs": [
    {
     "name": "stdout",
     "output_type": "stream",
     "text": [
      "4.0\n"
     ]
    }
   ],
   "source": [
    "#function of three scalars\n",
    "a = 2.0\n",
    "b = -3.0\n",
    "c = 10.0\n",
    "d = a*b + c\n",
    "print(d)"
   ]
  },
  {
   "cell_type": "code",
   "execution_count": 9,
   "metadata": {},
   "outputs": [
    {
     "name": "stdout",
     "output_type": "stream",
     "text": [
      "d1 4.0\n",
      "d2 3.999699999999999\n",
      "slope -3.000000000010772\n"
     ]
    }
   ],
   "source": [
    "#get a very small value of h\n",
    "h = 0.0001\n",
    "#inputs\n",
    "a = 2.0\n",
    "b = -3.0\n",
    "c = 10.0\n",
    "\n",
    "#find the derivative of d at all that points\n",
    "d1 = a*b + c\n",
    "a += h\n",
    "d2 = a*b + c #by calculus the diffentiation of a*b + c - it is just b what is negative number\n",
    "\n",
    "print('d1', d1)\n",
    "print('d2', d2)\n",
    "#d1 - d2 it is how much the function increases (d2 compare to d1) and this is normalise by h (the tiny amount bump in in d2) to get the slope\n",
    "print('slope', (d2 - d1)/h)\n",
    "#d2 will be slightly less then d1 as the scalar b is negative, if even we add a positive amount to a\n"
   ]
  },
  {
   "cell_type": "code",
   "execution_count": 10,
   "metadata": {},
   "outputs": [
    {
     "name": "stdout",
     "output_type": "stream",
     "text": [
      "d1 3.999699999999999\n",
      "d2 3.99990001\n",
      "slope 2.0001000000124947\n"
     ]
    }
   ],
   "source": [
    "#find the derivative of d at all that points\n",
    "# in respect of b\n",
    "d1 = a*b + c\n",
    "b += h #it is adding more to b\n",
    "d2 = a*b + c #by calculus the diffentiation in respect to a of a*b + c - it is b with is 2\n",
    "\n",
    "print('d1', d1)\n",
    "print('d2', d2)\n",
    "#d1 - d2 it is how much the function increases (d2 compare to d1) and this is normalise by h (the tiny amount bump in in d2) to get the slope\n",
    "print('slope', (d2 - d1)/h)\n",
    "#d2 as a is positive it means to add more to b"
   ]
  },
  {
   "cell_type": "code",
   "execution_count": 11,
   "metadata": {},
   "outputs": [
    {
     "name": "stdout",
     "output_type": "stream",
     "text": [
      "d1 3.99990001\n",
      "d2 4.00000001\n",
      "slope 0.9999999999976694\n"
     ]
    }
   ],
   "source": [
    "#find the derivative of d at all that points\n",
    "#in respect of c\n",
    "d1 = a*b + c\n",
    "c += h #it is adding more to d (c will effect for the same amount that we add to c, then 1)\n",
    "d2 = a*b + c #by calculus the diffentiation of a*b + c - it is just b what is negative number\n",
    "\n",
    "print('d1', d1)\n",
    "print('d2', d2)\n",
    "#d1 - d2 it is how much the function increases (d2 compare to d1) and this is normalise by h (the tiny amount bump in in d2) to get the slope\n",
    "print('slope', (d2 - d1)/h)\n"
   ]
  },
  {
   "cell_type": "code",
   "execution_count": 80,
   "metadata": {},
   "outputs": [
    {
     "data": {
      "text/plain": [
       "Value(data=-8.0)"
      ]
     },
     "execution_count": 80,
     "metadata": {},
     "output_type": "execute_result"
    }
   ],
   "source": [
    "class Value:\n",
    "    #childre default empty tuple (it introduces for efficiency)\n",
    "    #understand how to compute the local derivative\n",
    "    def __init__(self, data, _children=(), _op='', label='', grad=0.0):\n",
    "        self.data = data\n",
    "        self.grad = grad #in initialisation the data does not impact the loss function\n",
    "        self._backward = lambda : None \n",
    "        #a function that will do derivative chain rule (each node will compute that inputs that produces an output)\n",
    "        #we will store how will chain outputs gradients into inputs gradients\n",
    "        self._prev = set(_children)\n",
    "        self._op = _op\n",
    "        self.label = label \n",
    "        \n",
    "    def __repr__(self):\n",
    "        return f\"Value(data={self.data})\"\n",
    "\n",
    "\n",
    "    def __add__(self, other):\n",
    "        out = Value(self.data + other.data, (self, other),'+')\n",
    "        # a function that propagate the gradient\n",
    "        #we should take the local derivative add to the global derivative (derivative of the final output of the expression with respect to out's data)\n",
    "        def _backward():\n",
    "            self.grad = 1.0 * out.grad\n",
    "            other.grad = 1.0 * out.grad\n",
    "        out._backward = _backward\n",
    "        \n",
    "        return out\n",
    "\n",
    "    def __mul__(self, other):\n",
    "        out = Value(self.data * other.data, (self, other),'*')\n",
    "        \n",
    "        def _backward():\n",
    "            self.grad = other.data * out.grad\n",
    "            other.grad = self.grad * out.grad\n",
    "        out._backward = _backward\n",
    "        return out\n",
    "  \n",
    "    def tanh(self):\n",
    "        x = self.data\n",
    "        t = (math.exp(2*x) - 1) / (math.exp(2*x) + 1)\n",
    "        out = Value(t, (self,), 'tanh') #name of the operation\n",
    "        def _backward():\n",
    "            self.grad = (1 - t**2) *  out.grad\n",
    "        out._backward = _backward\n",
    "        return out\n",
    "\n",
    "a = Value(2.0, label='a')\n",
    "b = Value(-3.0, label='b')\n",
    "c = Value(10.0, label='c')\n",
    "e = a*b; e.label = 'e'\n",
    "d = e + c; d.label = 'd'\n",
    "#a + b #python does not know how to add two objects together\n",
    "#value object with data = 2\n",
    "#a.__add__(b)\n",
    "#d = a*b + c\n",
    "#(a.__mul__(b)).__add__(c)\n",
    "#d\n",
    "f = Value(-2.0, label = 'f')\n",
    "L = d*f; L.label = 'L'\n",
    "L\n",
    "#d._prev\n",
    "#d._op"
   ]
  },
  {
   "cell_type": "code",
   "execution_count": 50,
   "metadata": {},
   "outputs": [],
   "source": [
    "#visualisation the expression\n",
    "\n",
    "from graphviz import Digraph\n",
    "\n",
    "def trace(root):\n",
    "    #builds a set of all nodes and edges in a graph\n",
    "    nodes, edges = set(), set()\n",
    "    def build(v):\n",
    "        if v not in nodes:\n",
    "            nodes.add(v)\n",
    "            for child in v._prev:\n",
    "                edges.add((child, v))\n",
    "                build(child)\n",
    "    #call function build\n",
    "    build(root)   \n",
    "    #return nodes and edges sets \n",
    "    return nodes, edges\n",
    "        \n",
    "def draw_dot(root):\n",
    "    dot = Digraph(format='svg', graph_attr={'rankdir':'LR'})\n",
    "    \n",
    "    nodes, edges = trace(root)\n",
    "    for n in nodes:\n",
    "        uid = str(id(n))\n",
    "        #for any value in the graph, create a rectangular ('record') node for it\n",
    "        dot.node(name = uid, label = \"{%s | data %.4f | grad %.4f }\" % (n.label, n.data, n.grad), shape='record')  \n",
    "        if n._op:\n",
    "            #if this value is a result of some operation, create an op node for it\n",
    "            dot.node(name = uid + n._op, label = n._op) \n",
    "            #and connect this node to it\n",
    "            dot.edge(uid+n._op, uid)\n",
    "    for n1, n2 in edges:\n",
    "        #connect n1 to the op node of n2\n",
    "        dot.edge(str(id(n1)),str(id(n2))+n2._op)\n",
    "    return dot\n"
   ]
  },
  {
   "cell_type": "code",
   "execution_count": 14,
   "metadata": {},
   "outputs": [
    {
     "data": {
      "image/svg+xml": "<?xml version=\"1.0\" encoding=\"UTF-8\" standalone=\"no\"?>\n<!DOCTYPE svg PUBLIC \"-//W3C//DTD SVG 1.1//EN\"\n \"http://www.w3.org/Graphics/SVG/1.1/DTD/svg11.dtd\">\n<!-- Generated by graphviz version 2.50.0 (0)\n -->\n<!-- Pages: 1 -->\n<svg width=\"1148pt\" height=\"128pt\"\n viewBox=\"0.00 0.00 1148.00 128.00\" xmlns=\"http://www.w3.org/2000/svg\" xmlns:xlink=\"http://www.w3.org/1999/xlink\">\n<g id=\"graph0\" class=\"graph\" transform=\"scale(1 1) rotate(0) translate(4 124)\">\n<polygon fill=\"white\" stroke=\"transparent\" points=\"-4,4 -4,-124 1144,-124 1144,4 -4,4\"/>\n<!-- 4508940320 -->\n<g id=\"node1\" class=\"node\">\n<title>4508940320</title>\n<polygon fill=\"none\" stroke=\"black\" points=\"316,-83.5 316,-119.5 508,-119.5 508,-83.5 316,-83.5\"/>\n<text text-anchor=\"middle\" x=\"327.5\" y=\"-97.8\" font-family=\"Times,serif\" font-size=\"14.00\">c</text>\n<polyline fill=\"none\" stroke=\"black\" points=\"339,-83.5 339,-119.5 \"/>\n<text text-anchor=\"middle\" x=\"382.5\" y=\"-97.8\" font-family=\"Times,serif\" font-size=\"14.00\">data 10.0000</text>\n<polyline fill=\"none\" stroke=\"black\" points=\"426,-83.5 426,-119.5 \"/>\n<text text-anchor=\"middle\" x=\"467\" y=\"-97.8\" font-family=\"Times,serif\" font-size=\"14.00\">grad 0.0000</text>\n</g>\n<!-- 4508941472+ -->\n<g id=\"node4\" class=\"node\">\n<title>4508941472+</title>\n<ellipse fill=\"none\" stroke=\"black\" cx=\"571\" cy=\"-73.5\" rx=\"27\" ry=\"18\"/>\n<text text-anchor=\"middle\" x=\"571\" y=\"-69.8\" font-family=\"Times,serif\" font-size=\"14.00\">+</text>\n</g>\n<!-- 4508940320&#45;&gt;4508941472+ -->\n<g id=\"edge4\" class=\"edge\">\n<title>4508940320&#45;&gt;4508941472+</title>\n<path fill=\"none\" stroke=\"black\" d=\"M508.4,-84.49C517.69,-82.83 526.64,-81.23 534.71,-79.79\"/>\n<polygon fill=\"black\" stroke=\"black\" points=\"535.53,-83.2 544.76,-78 534.31,-76.31 535.53,-83.2\"/>\n</g>\n<!-- 4532290704 -->\n<g id=\"node2\" class=\"node\">\n<title>4532290704</title>\n<polygon fill=\"none\" stroke=\"black\" points=\"634,-0.5 634,-36.5 822,-36.5 822,-0.5 634,-0.5\"/>\n<text text-anchor=\"middle\" x=\"644.5\" y=\"-14.8\" font-family=\"Times,serif\" font-size=\"14.00\">f</text>\n<polyline fill=\"none\" stroke=\"black\" points=\"655,-0.5 655,-36.5 \"/>\n<text text-anchor=\"middle\" x=\"697.5\" y=\"-14.8\" font-family=\"Times,serif\" font-size=\"14.00\">data &#45;2.0000</text>\n<polyline fill=\"none\" stroke=\"black\" points=\"740,-0.5 740,-36.5 \"/>\n<text text-anchor=\"middle\" x=\"781\" y=\"-14.8\" font-family=\"Times,serif\" font-size=\"14.00\">grad 0.0000</text>\n</g>\n<!-- 4508942000* -->\n<g id=\"node6\" class=\"node\">\n<title>4508942000*</title>\n<ellipse fill=\"none\" stroke=\"black\" cx=\"885\" cy=\"-45.5\" rx=\"27\" ry=\"18\"/>\n<text text-anchor=\"middle\" x=\"885\" y=\"-41.8\" font-family=\"Times,serif\" font-size=\"14.00\">*</text>\n</g>\n<!-- 4532290704&#45;&gt;4508942000* -->\n<g id=\"edge9\" class=\"edge\">\n<title>4532290704&#45;&gt;4508942000*</title>\n<path fill=\"none\" stroke=\"black\" d=\"M822.29,-34.75C831.57,-36.37 840.52,-37.93 848.61,-39.33\"/>\n<polygon fill=\"black\" stroke=\"black\" points=\"848.22,-42.82 858.68,-41.09 849.42,-35.92 848.22,-42.82\"/>\n</g>\n<!-- 4508941472 -->\n<g id=\"node3\" class=\"node\">\n<title>4508941472</title>\n<polygon fill=\"none\" stroke=\"black\" points=\"635.5,-55.5 635.5,-91.5 820.5,-91.5 820.5,-55.5 635.5,-55.5\"/>\n<text text-anchor=\"middle\" x=\"647\" y=\"-69.8\" font-family=\"Times,serif\" font-size=\"14.00\">d</text>\n<polyline fill=\"none\" stroke=\"black\" points=\"658.5,-55.5 658.5,-91.5 \"/>\n<text text-anchor=\"middle\" x=\"698.5\" y=\"-69.8\" font-family=\"Times,serif\" font-size=\"14.00\">data 4.0000</text>\n<polyline fill=\"none\" stroke=\"black\" points=\"738.5,-55.5 738.5,-91.5 \"/>\n<text text-anchor=\"middle\" x=\"779.5\" y=\"-69.8\" font-family=\"Times,serif\" font-size=\"14.00\">grad 0.0000</text>\n</g>\n<!-- 4508941472&#45;&gt;4508942000* -->\n<g id=\"edge6\" class=\"edge\">\n<title>4508941472&#45;&gt;4508942000*</title>\n<path fill=\"none\" stroke=\"black\" d=\"M820.51,-56.97C830.48,-55.17 840.13,-53.42 848.77,-51.86\"/>\n<polygon fill=\"black\" stroke=\"black\" points=\"849.55,-55.28 858.77,-50.06 848.3,-48.39 849.55,-55.28\"/>\n</g>\n<!-- 4508941472+&#45;&gt;4508941472 -->\n<g id=\"edge1\" class=\"edge\">\n<title>4508941472+&#45;&gt;4508941472</title>\n<path fill=\"none\" stroke=\"black\" d=\"M598.29,-73.5C606.26,-73.5 615.54,-73.5 625.39,-73.5\"/>\n<polygon fill=\"black\" stroke=\"black\" points=\"625.41,-77 635.41,-73.5 625.41,-70 625.41,-77\"/>\n</g>\n<!-- 4508942000 -->\n<g id=\"node5\" class=\"node\">\n<title>4508942000</title>\n<polygon fill=\"none\" stroke=\"black\" points=\"948,-27.5 948,-63.5 1140,-63.5 1140,-27.5 948,-27.5\"/>\n<text text-anchor=\"middle\" x=\"960.5\" y=\"-41.8\" font-family=\"Times,serif\" font-size=\"14.00\">L</text>\n<polyline fill=\"none\" stroke=\"black\" points=\"973,-27.5 973,-63.5 \"/>\n<text text-anchor=\"middle\" x=\"1015.5\" y=\"-41.8\" font-family=\"Times,serif\" font-size=\"14.00\">data &#45;8.0000</text>\n<polyline fill=\"none\" stroke=\"black\" points=\"1058,-27.5 1058,-63.5 \"/>\n<text text-anchor=\"middle\" x=\"1099\" y=\"-41.8\" font-family=\"Times,serif\" font-size=\"14.00\">grad 0.0000</text>\n</g>\n<!-- 4508942000*&#45;&gt;4508942000 -->\n<g id=\"edge2\" class=\"edge\">\n<title>4508942000*&#45;&gt;4508942000</title>\n<path fill=\"none\" stroke=\"black\" d=\"M912.28,-45.5C919.78,-45.5 928.44,-45.5 937.67,-45.5\"/>\n<polygon fill=\"black\" stroke=\"black\" points=\"937.87,-49 947.87,-45.5 937.87,-42 937.87,-49\"/>\n</g>\n<!-- 4508940512 -->\n<g id=\"node7\" class=\"node\">\n<title>4508940512</title>\n<polygon fill=\"none\" stroke=\"black\" points=\"0,-56.5 0,-92.5 190,-92.5 190,-56.5 0,-56.5\"/>\n<text text-anchor=\"middle\" x=\"11.5\" y=\"-70.8\" font-family=\"Times,serif\" font-size=\"14.00\">b</text>\n<polyline fill=\"none\" stroke=\"black\" points=\"23,-56.5 23,-92.5 \"/>\n<text text-anchor=\"middle\" x=\"65.5\" y=\"-70.8\" font-family=\"Times,serif\" font-size=\"14.00\">data &#45;3.0000</text>\n<polyline fill=\"none\" stroke=\"black\" points=\"108,-56.5 108,-92.5 \"/>\n<text text-anchor=\"middle\" x=\"149\" y=\"-70.8\" font-family=\"Times,serif\" font-size=\"14.00\">grad 0.0000</text>\n</g>\n<!-- 4508941568* -->\n<g id=\"node9\" class=\"node\">\n<title>4508941568*</title>\n<ellipse fill=\"none\" stroke=\"black\" cx=\"253\" cy=\"-46.5\" rx=\"27\" ry=\"18\"/>\n<text text-anchor=\"middle\" x=\"253\" y=\"-42.8\" font-family=\"Times,serif\" font-size=\"14.00\">*</text>\n</g>\n<!-- 4508940512&#45;&gt;4508941568* -->\n<g id=\"edge7\" class=\"edge\">\n<title>4508940512&#45;&gt;4508941568*</title>\n<path fill=\"none\" stroke=\"black\" d=\"M190.34,-57.57C199.62,-55.9 208.58,-54.29 216.66,-52.84\"/>\n<polygon fill=\"black\" stroke=\"black\" points=\"217.49,-56.25 226.72,-51.04 216.26,-49.36 217.49,-56.25\"/>\n</g>\n<!-- 4508941568 -->\n<g id=\"node8\" class=\"node\">\n<title>4508941568</title>\n<polygon fill=\"none\" stroke=\"black\" points=\"317,-28.5 317,-64.5 507,-64.5 507,-28.5 317,-28.5\"/>\n<text text-anchor=\"middle\" x=\"328.5\" y=\"-42.8\" font-family=\"Times,serif\" font-size=\"14.00\">e</text>\n<polyline fill=\"none\" stroke=\"black\" points=\"340,-28.5 340,-64.5 \"/>\n<text text-anchor=\"middle\" x=\"382.5\" y=\"-42.8\" font-family=\"Times,serif\" font-size=\"14.00\">data &#45;6.0000</text>\n<polyline fill=\"none\" stroke=\"black\" points=\"425,-28.5 425,-64.5 \"/>\n<text text-anchor=\"middle\" x=\"466\" y=\"-42.8\" font-family=\"Times,serif\" font-size=\"14.00\">grad 0.0000</text>\n</g>\n<!-- 4508941568&#45;&gt;4508941472+ -->\n<g id=\"edge5\" class=\"edge\">\n<title>4508941568&#45;&gt;4508941472+</title>\n<path fill=\"none\" stroke=\"black\" d=\"M507.05,-62.67C516.78,-64.35 526.18,-65.96 534.62,-67.42\"/>\n<polygon fill=\"black\" stroke=\"black\" points=\"534.3,-70.91 544.75,-69.16 535.49,-64.01 534.3,-70.91\"/>\n</g>\n<!-- 4508941568*&#45;&gt;4508941568 -->\n<g id=\"edge3\" class=\"edge\">\n<title>4508941568*&#45;&gt;4508941568</title>\n<path fill=\"none\" stroke=\"black\" d=\"M280.28,-46.5C288.05,-46.5 297.08,-46.5 306.68,-46.5\"/>\n<polygon fill=\"black\" stroke=\"black\" points=\"306.88,-50 316.88,-46.5 306.88,-43 306.88,-50\"/>\n</g>\n<!-- 4508859888 -->\n<g id=\"node10\" class=\"node\">\n<title>4508859888</title>\n<polygon fill=\"none\" stroke=\"black\" points=\"2.5,-1.5 2.5,-37.5 187.5,-37.5 187.5,-1.5 2.5,-1.5\"/>\n<text text-anchor=\"middle\" x=\"14\" y=\"-15.8\" font-family=\"Times,serif\" font-size=\"14.00\">a</text>\n<polyline fill=\"none\" stroke=\"black\" points=\"25.5,-1.5 25.5,-37.5 \"/>\n<text text-anchor=\"middle\" x=\"65.5\" y=\"-15.8\" font-family=\"Times,serif\" font-size=\"14.00\">data 2.0000</text>\n<polyline fill=\"none\" stroke=\"black\" points=\"105.5,-1.5 105.5,-37.5 \"/>\n<text text-anchor=\"middle\" x=\"146.5\" y=\"-15.8\" font-family=\"Times,serif\" font-size=\"14.00\">grad 0.0000</text>\n</g>\n<!-- 4508859888&#45;&gt;4508941568* -->\n<g id=\"edge8\" class=\"edge\">\n<title>4508859888&#45;&gt;4508941568*</title>\n<path fill=\"none\" stroke=\"black\" d=\"M187.65,-35.36C197.94,-37.14 207.91,-38.87 216.81,-40.41\"/>\n<polygon fill=\"black\" stroke=\"black\" points=\"216.26,-43.87 226.71,-42.12 217.45,-36.97 216.26,-43.87\"/>\n</g>\n</g>\n</svg>\n",
      "text/plain": [
       "<graphviz.graphs.Digraph at 0x10e23fe20>"
      ]
     },
     "execution_count": 14,
     "metadata": {},
     "output_type": "execute_result"
    }
   ],
   "source": [
    "draw_dot(L)"
   ]
  },
  {
   "cell_type": "code",
   "execution_count": 15,
   "metadata": {},
   "outputs": [],
   "source": [
    "#how L is sensitive to c\n",
    "#we know how the impact c impacts d and we know how d impacts L\n",
    "L = d * f #So it will be d so what is the dd/dc\n",
    "d = c + e # it will be 1\n",
    "#(f(x+h) - f(x)) / x\n",
    "#((c+h  + e - (c + e))/ h\n",
    "#(c + h  + e - c - e)/ h\n",
    "#h/h = 1\n",
    "#dd/dc ? = 1.0 \n",
    "#and by symmetry\n",
    "#dd / de = 1.0\n",
    "#chain rule  to get until L (function composition) - intuitive explanation - product of two functions\n",
    "#dz/dx = (dz/dy)*(dy/dx)\n",
    "#find the local gradient\n",
    "\n",
    "#WANT\n",
    "#dL / dc = (dl/ dd) * (dd / dc) = -2.0 * 1.0\n",
    "#dL / da = (dL / de) * (de / da) = -2.0 * -3.0\n",
    "#dL / dbb = (dL / de) * (de / db) = -2.0 * 2.0\n",
    "\n",
    "\n",
    "#KNOW\n",
    "#dL / de = -2.0\n",
    "#e = a * b if you differiante a * b we just have b\n",
    "#de / da ? b\n",
    "#de / db ? a\n",
    "\n",
    "#WE TAKE NODE BY NODE and locally apply the chain rules and we have the pointer to child nodes of these operations\n"
   ]
  },
  {
   "cell_type": "code",
   "execution_count": 27,
   "metadata": {},
   "outputs": [
    {
     "data": {
      "image/svg+xml": "<?xml version=\"1.0\" encoding=\"UTF-8\" standalone=\"no\"?>\n<!DOCTYPE svg PUBLIC \"-//W3C//DTD SVG 1.1//EN\"\n \"http://www.w3.org/Graphics/SVG/1.1/DTD/svg11.dtd\">\n<!-- Generated by graphviz version 2.50.0 (0)\n -->\n<!-- Pages: 1 -->\n<svg width=\"1157pt\" height=\"128pt\"\n viewBox=\"0.00 0.00 1157.00 128.00\" xmlns=\"http://www.w3.org/2000/svg\" xmlns:xlink=\"http://www.w3.org/1999/xlink\">\n<g id=\"graph0\" class=\"graph\" transform=\"scale(1 1) rotate(0) translate(4 124)\">\n<polygon fill=\"white\" stroke=\"transparent\" points=\"-4,4 -4,-124 1153,-124 1153,4 -4,4\"/>\n<!-- 4533191680 -->\n<g id=\"node1\" class=\"node\">\n<title>4533191680</title>\n<polygon fill=\"none\" stroke=\"black\" points=\"642,-27.5 642,-63.5 831,-63.5 831,-27.5 642,-27.5\"/>\n<text text-anchor=\"middle\" x=\"653.5\" y=\"-41.8\" font-family=\"Times,serif\" font-size=\"14.00\">d</text>\n<polyline fill=\"none\" stroke=\"black\" points=\"665,-27.5 665,-63.5 \"/>\n<text text-anchor=\"middle\" x=\"705\" y=\"-41.8\" font-family=\"Times,serif\" font-size=\"14.00\">data 4.0000</text>\n<polyline fill=\"none\" stroke=\"black\" points=\"745,-27.5 745,-63.5 \"/>\n<text text-anchor=\"middle\" x=\"788\" y=\"-41.8\" font-family=\"Times,serif\" font-size=\"14.00\">grad &#45;2.0000</text>\n</g>\n<!-- 4533174384* -->\n<g id=\"node7\" class=\"node\">\n<title>4533174384*</title>\n<ellipse fill=\"none\" stroke=\"black\" cx=\"894\" cy=\"-72.5\" rx=\"27\" ry=\"18\"/>\n<text text-anchor=\"middle\" x=\"894\" y=\"-68.8\" font-family=\"Times,serif\" font-size=\"14.00\">*</text>\n</g>\n<!-- 4533191680&#45;&gt;4533174384* -->\n<g id=\"edge4\" class=\"edge\">\n<title>4533191680&#45;&gt;4533174384*</title>\n<path fill=\"none\" stroke=\"black\" d=\"M831.1,-61.75C840.4,-63.37 849.38,-64.93 857.49,-66.33\"/>\n<polygon fill=\"black\" stroke=\"black\" points=\"857.14,-69.83 867.59,-68.09 858.34,-62.93 857.14,-69.83\"/>\n</g>\n<!-- 4533191680+ -->\n<g id=\"node2\" class=\"node\">\n<title>4533191680+</title>\n<ellipse fill=\"none\" stroke=\"black\" cx=\"579\" cy=\"-45.5\" rx=\"27\" ry=\"18\"/>\n<text text-anchor=\"middle\" x=\"579\" y=\"-41.8\" font-family=\"Times,serif\" font-size=\"14.00\">+</text>\n</g>\n<!-- 4533191680+&#45;&gt;4533191680 -->\n<g id=\"edge1\" class=\"edge\">\n<title>4533191680+&#45;&gt;4533191680</title>\n<path fill=\"none\" stroke=\"black\" d=\"M606.03,-45.5C613.66,-45.5 622.52,-45.5 631.94,-45.5\"/>\n<polygon fill=\"black\" stroke=\"black\" points=\"631.94,-49 641.94,-45.5 631.94,-42 631.94,-49\"/>\n</g>\n<!-- 4533174816 -->\n<g id=\"node3\" class=\"node\">\n<title>4533174816</title>\n<polygon fill=\"none\" stroke=\"black\" points=\"321,-55.5 321,-91.5 515,-91.5 515,-55.5 321,-55.5\"/>\n<text text-anchor=\"middle\" x=\"332.5\" y=\"-69.8\" font-family=\"Times,serif\" font-size=\"14.00\">e</text>\n<polyline fill=\"none\" stroke=\"black\" points=\"344,-55.5 344,-91.5 \"/>\n<text text-anchor=\"middle\" x=\"386.5\" y=\"-69.8\" font-family=\"Times,serif\" font-size=\"14.00\">data &#45;6.0000</text>\n<polyline fill=\"none\" stroke=\"black\" points=\"429,-55.5 429,-91.5 \"/>\n<text text-anchor=\"middle\" x=\"472\" y=\"-69.8\" font-family=\"Times,serif\" font-size=\"14.00\">grad &#45;2.0000</text>\n</g>\n<!-- 4533174816&#45;&gt;4533191680+ -->\n<g id=\"edge7\" class=\"edge\">\n<title>4533174816&#45;&gt;4533191680+</title>\n<path fill=\"none\" stroke=\"black\" d=\"M515.16,-56.57C524.82,-54.87 534.13,-53.23 542.49,-51.75\"/>\n<polygon fill=\"black\" stroke=\"black\" points=\"543.3,-55.17 552.54,-49.98 542.08,-48.27 543.3,-55.17\"/>\n</g>\n<!-- 4533174816* -->\n<g id=\"node4\" class=\"node\">\n<title>4533174816*</title>\n<ellipse fill=\"none\" stroke=\"black\" cx=\"257\" cy=\"-73.5\" rx=\"27\" ry=\"18\"/>\n<text text-anchor=\"middle\" x=\"257\" y=\"-69.8\" font-family=\"Times,serif\" font-size=\"14.00\">*</text>\n</g>\n<!-- 4533174816*&#45;&gt;4533174816 -->\n<g id=\"edge2\" class=\"edge\">\n<title>4533174816*&#45;&gt;4533174816</title>\n<path fill=\"none\" stroke=\"black\" d=\"M284.26,-73.5C292.05,-73.5 301.1,-73.5 310.75,-73.5\"/>\n<polygon fill=\"black\" stroke=\"black\" points=\"310.99,-77 320.99,-73.5 310.99,-70 310.99,-77\"/>\n</g>\n<!-- 4533191728 -->\n<g id=\"node5\" class=\"node\">\n<title>4533191728</title>\n<polygon fill=\"none\" stroke=\"black\" points=\"642.5,-82.5 642.5,-118.5 830.5,-118.5 830.5,-82.5 642.5,-82.5\"/>\n<text text-anchor=\"middle\" x=\"653\" y=\"-96.8\" font-family=\"Times,serif\" font-size=\"14.00\">f</text>\n<polyline fill=\"none\" stroke=\"black\" points=\"663.5,-82.5 663.5,-118.5 \"/>\n<text text-anchor=\"middle\" x=\"706\" y=\"-96.8\" font-family=\"Times,serif\" font-size=\"14.00\">data &#45;2.0000</text>\n<polyline fill=\"none\" stroke=\"black\" points=\"748.5,-82.5 748.5,-118.5 \"/>\n<text text-anchor=\"middle\" x=\"789.5\" y=\"-96.8\" font-family=\"Times,serif\" font-size=\"14.00\">grad 4.0000</text>\n</g>\n<!-- 4533191728&#45;&gt;4533174384* -->\n<g id=\"edge5\" class=\"edge\">\n<title>4533191728&#45;&gt;4533174384*</title>\n<path fill=\"none\" stroke=\"black\" d=\"M830.65,-83.73C840.2,-82.01 849.43,-80.35 857.72,-78.85\"/>\n<polygon fill=\"black\" stroke=\"black\" points=\"858.47,-82.27 867.69,-77.06 857.23,-75.39 858.47,-82.27\"/>\n</g>\n<!-- 4533174384 -->\n<g id=\"node6\" class=\"node\">\n<title>4533174384</title>\n<polygon fill=\"none\" stroke=\"black\" points=\"957,-54.5 957,-90.5 1149,-90.5 1149,-54.5 957,-54.5\"/>\n<text text-anchor=\"middle\" x=\"969.5\" y=\"-68.8\" font-family=\"Times,serif\" font-size=\"14.00\">L</text>\n<polyline fill=\"none\" stroke=\"black\" points=\"982,-54.5 982,-90.5 \"/>\n<text text-anchor=\"middle\" x=\"1024.5\" y=\"-68.8\" font-family=\"Times,serif\" font-size=\"14.00\">data &#45;8.0000</text>\n<polyline fill=\"none\" stroke=\"black\" points=\"1067,-54.5 1067,-90.5 \"/>\n<text text-anchor=\"middle\" x=\"1108\" y=\"-68.8\" font-family=\"Times,serif\" font-size=\"14.00\">grad 1.0000</text>\n</g>\n<!-- 4533174384*&#45;&gt;4533174384 -->\n<g id=\"edge3\" class=\"edge\">\n<title>4533174384*&#45;&gt;4533174384</title>\n<path fill=\"none\" stroke=\"black\" d=\"M921.28,-72.5C928.78,-72.5 937.44,-72.5 946.67,-72.5\"/>\n<polygon fill=\"black\" stroke=\"black\" points=\"946.87,-76 956.87,-72.5 946.87,-69 946.87,-76\"/>\n</g>\n<!-- 4533174960 -->\n<g id=\"node8\" class=\"node\">\n<title>4533174960</title>\n<polygon fill=\"none\" stroke=\"black\" points=\"0,-83.5 0,-119.5 194,-119.5 194,-83.5 0,-83.5\"/>\n<text text-anchor=\"middle\" x=\"11.5\" y=\"-97.8\" font-family=\"Times,serif\" font-size=\"14.00\">b</text>\n<polyline fill=\"none\" stroke=\"black\" points=\"23,-83.5 23,-119.5 \"/>\n<text text-anchor=\"middle\" x=\"65.5\" y=\"-97.8\" font-family=\"Times,serif\" font-size=\"14.00\">data &#45;3.0000</text>\n<polyline fill=\"none\" stroke=\"black\" points=\"108,-83.5 108,-119.5 \"/>\n<text text-anchor=\"middle\" x=\"151\" y=\"-97.8\" font-family=\"Times,serif\" font-size=\"14.00\">grad &#45;4.0000</text>\n</g>\n<!-- 4533174960&#45;&gt;4533174816* -->\n<g id=\"edge9\" class=\"edge\">\n<title>4533174960&#45;&gt;4533174816*</title>\n<path fill=\"none\" stroke=\"black\" d=\"M194.01,-84.49C203.35,-82.83 212.37,-81.23 220.49,-79.79\"/>\n<polygon fill=\"black\" stroke=\"black\" points=\"221.37,-83.19 230.6,-78 220.15,-76.3 221.37,-83.19\"/>\n</g>\n<!-- 4533175008 -->\n<g id=\"node9\" class=\"node\">\n<title>4533175008</title>\n<polygon fill=\"none\" stroke=\"black\" points=\"320,-0.5 320,-36.5 516,-36.5 516,-0.5 320,-0.5\"/>\n<text text-anchor=\"middle\" x=\"331.5\" y=\"-14.8\" font-family=\"Times,serif\" font-size=\"14.00\">c</text>\n<polyline fill=\"none\" stroke=\"black\" points=\"343,-0.5 343,-36.5 \"/>\n<text text-anchor=\"middle\" x=\"386.5\" y=\"-14.8\" font-family=\"Times,serif\" font-size=\"14.00\">data 10.0000</text>\n<polyline fill=\"none\" stroke=\"black\" points=\"430,-0.5 430,-36.5 \"/>\n<text text-anchor=\"middle\" x=\"473\" y=\"-14.8\" font-family=\"Times,serif\" font-size=\"14.00\">grad &#45;2.0000</text>\n</g>\n<!-- 4533175008&#45;&gt;4533191680+ -->\n<g id=\"edge8\" class=\"edge\">\n<title>4533175008&#45;&gt;4533191680+</title>\n<path fill=\"none\" stroke=\"black\" d=\"M516.07,-34.98C525.42,-36.57 534.43,-38.1 542.55,-39.48\"/>\n<polygon fill=\"black\" stroke=\"black\" points=\"542.21,-42.97 552.65,-41.2 543.38,-36.07 542.21,-42.97\"/>\n</g>\n<!-- 4533175056 -->\n<g id=\"node10\" class=\"node\">\n<title>4533175056</title>\n<polygon fill=\"none\" stroke=\"black\" points=\"4.5,-28.5 4.5,-64.5 189.5,-64.5 189.5,-28.5 4.5,-28.5\"/>\n<text text-anchor=\"middle\" x=\"16\" y=\"-42.8\" font-family=\"Times,serif\" font-size=\"14.00\">a</text>\n<polyline fill=\"none\" stroke=\"black\" points=\"27.5,-28.5 27.5,-64.5 \"/>\n<text text-anchor=\"middle\" x=\"67.5\" y=\"-42.8\" font-family=\"Times,serif\" font-size=\"14.00\">data 2.0000</text>\n<polyline fill=\"none\" stroke=\"black\" points=\"107.5,-28.5 107.5,-64.5 \"/>\n<text text-anchor=\"middle\" x=\"148.5\" y=\"-42.8\" font-family=\"Times,serif\" font-size=\"14.00\">grad 6.0000</text>\n</g>\n<!-- 4533175056&#45;&gt;4533174816* -->\n<g id=\"edge6\" class=\"edge\">\n<title>4533175056&#45;&gt;4533174816*</title>\n<path fill=\"none\" stroke=\"black\" d=\"M189.91,-62.21C200.76,-64.06 211.28,-65.86 220.61,-67.45\"/>\n<polygon fill=\"black\" stroke=\"black\" points=\"220.16,-70.93 230.6,-69.16 221.34,-64.03 220.16,-70.93\"/>\n</g>\n</g>\n</svg>\n",
      "text/plain": [
       "<graphviz.graphs.Digraph at 0x10e32c520>"
      ]
     },
     "execution_count": 27,
     "metadata": {},
     "output_type": "execute_result"
    }
   ],
   "source": [
    "a.grad = -2.0 * -3.0\n",
    "b.grad = -2.0 * 2.0\n",
    "c.grad = -2.0 * 1.0\n",
    "e.grad = -2.0 * 1.0\n",
    "f.grad = 4.0\n",
    "d.grad = -2.0\n",
    "L.grad = 1.0\n",
    "draw_dot(L)"
   ]
  },
  {
   "cell_type": "code",
   "execution_count": 17,
   "metadata": {},
   "outputs": [],
   "source": [
    "#dL/dc = ?f \n",
    "#(f(x+h)-f(x))/h\n",
    "#((d+h)*f - d*f)/h\n",
    "#(d*f + h*f - d*f) /h\n",
    "#(h*f)/h\n",
    "#f\n"
   ]
  },
  {
   "cell_type": "code",
   "execution_count": 47,
   "metadata": {},
   "outputs": [
    {
     "name": "stdout",
     "output_type": "stream",
     "text": [
      "-47.54549343480782\n"
     ]
    },
    {
     "data": {
      "image/svg+xml": "<?xml version=\"1.0\" encoding=\"UTF-8\" standalone=\"no\"?>\n<!DOCTYPE svg PUBLIC \"-//W3C//DTD SVG 1.1//EN\"\n \"http://www.w3.org/Graphics/SVG/1.1/DTD/svg11.dtd\">\n<!-- Generated by graphviz version 2.50.0 (0)\n -->\n<!-- Pages: 1 -->\n<svg width=\"1146pt\" height=\"128pt\"\n viewBox=\"0.00 0.00 1146.00 128.00\" xmlns=\"http://www.w3.org/2000/svg\" xmlns:xlink=\"http://www.w3.org/1999/xlink\">\n<g id=\"graph0\" class=\"graph\" transform=\"scale(1 1) rotate(0) translate(4 124)\">\n<polygon fill=\"white\" stroke=\"transparent\" points=\"-4,4 -4,-124 1142,-124 1142,4 -4,4\"/>\n<!-- 4533244448 -->\n<g id=\"node1\" class=\"node\">\n<title>4533244448</title>\n<polygon fill=\"none\" stroke=\"black\" points=\"311,-83.5 311,-119.5 503,-119.5 503,-83.5 311,-83.5\"/>\n<text text-anchor=\"middle\" x=\"322.5\" y=\"-97.8\" font-family=\"Times,serif\" font-size=\"14.00\">c</text>\n<polyline fill=\"none\" stroke=\"black\" points=\"334,-83.5 334,-119.5 \"/>\n<text text-anchor=\"middle\" x=\"377.5\" y=\"-97.8\" font-family=\"Times,serif\" font-size=\"14.00\">data 10.0000</text>\n<polyline fill=\"none\" stroke=\"black\" points=\"421,-83.5 421,-119.5 \"/>\n<text text-anchor=\"middle\" x=\"462\" y=\"-97.8\" font-family=\"Times,serif\" font-size=\"14.00\">grad 0.0000</text>\n</g>\n<!-- 4533615824+ -->\n<g id=\"node6\" class=\"node\">\n<title>4533615824+</title>\n<ellipse fill=\"none\" stroke=\"black\" cx=\"566\" cy=\"-73.5\" rx=\"27\" ry=\"18\"/>\n<text text-anchor=\"middle\" x=\"566\" y=\"-69.8\" font-family=\"Times,serif\" font-size=\"14.00\">+</text>\n</g>\n<!-- 4533244448&#45;&gt;4533615824+ -->\n<g id=\"edge7\" class=\"edge\">\n<title>4533244448&#45;&gt;4533615824+</title>\n<path fill=\"none\" stroke=\"black\" d=\"M503.4,-84.49C512.69,-82.83 521.64,-81.23 529.71,-79.79\"/>\n<polygon fill=\"black\" stroke=\"black\" points=\"530.53,-83.2 539.76,-78 529.31,-76.31 530.53,-83.2\"/>\n</g>\n<!-- 4533244400 -->\n<g id=\"node2\" class=\"node\">\n<title>4533244400</title>\n<polygon fill=\"none\" stroke=\"black\" points=\"0,-56.5 0,-92.5 185,-92.5 185,-56.5 0,-56.5\"/>\n<text text-anchor=\"middle\" x=\"11.5\" y=\"-70.8\" font-family=\"Times,serif\" font-size=\"14.00\">a</text>\n<polyline fill=\"none\" stroke=\"black\" points=\"23,-56.5 23,-92.5 \"/>\n<text text-anchor=\"middle\" x=\"63\" y=\"-70.8\" font-family=\"Times,serif\" font-size=\"14.00\">data 2.0000</text>\n<polyline fill=\"none\" stroke=\"black\" points=\"103,-56.5 103,-92.5 \"/>\n<text text-anchor=\"middle\" x=\"144\" y=\"-70.8\" font-family=\"Times,serif\" font-size=\"14.00\">grad 0.0000</text>\n</g>\n<!-- 4533613184* -->\n<g id=\"node4\" class=\"node\">\n<title>4533613184*</title>\n<ellipse fill=\"none\" stroke=\"black\" cx=\"248\" cy=\"-46.5\" rx=\"27\" ry=\"18\"/>\n<text text-anchor=\"middle\" x=\"248\" y=\"-42.8\" font-family=\"Times,serif\" font-size=\"14.00\">*</text>\n</g>\n<!-- 4533244400&#45;&gt;4533613184* -->\n<g id=\"edge5\" class=\"edge\">\n<title>4533244400&#45;&gt;4533613184*</title>\n<path fill=\"none\" stroke=\"black\" d=\"M185.01,-57.81C194.49,-56.08 203.66,-54.41 211.9,-52.9\"/>\n<polygon fill=\"black\" stroke=\"black\" points=\"212.6,-56.33 221.81,-51.09 211.35,-49.45 212.6,-56.33\"/>\n</g>\n<!-- 4533613184 -->\n<g id=\"node3\" class=\"node\">\n<title>4533613184</title>\n<polygon fill=\"none\" stroke=\"black\" points=\"312.5,-28.5 312.5,-64.5 501.5,-64.5 501.5,-28.5 312.5,-28.5\"/>\n<text text-anchor=\"middle\" x=\"322.5\" y=\"-42.8\" font-family=\"Times,serif\" font-size=\"14.00\"> </text>\n<polyline fill=\"none\" stroke=\"black\" points=\"332.5,-28.5 332.5,-64.5 \"/>\n<text text-anchor=\"middle\" x=\"376\" y=\"-42.8\" font-family=\"Times,serif\" font-size=\"14.00\">data 13.7727</text>\n<polyline fill=\"none\" stroke=\"black\" points=\"419.5,-28.5 419.5,-64.5 \"/>\n<text text-anchor=\"middle\" x=\"460.5\" y=\"-42.8\" font-family=\"Times,serif\" font-size=\"14.00\">grad 0.0000</text>\n</g>\n<!-- 4533613184&#45;&gt;4533615824+ -->\n<g id=\"edge9\" class=\"edge\">\n<title>4533613184&#45;&gt;4533615824+</title>\n<path fill=\"none\" stroke=\"black\" d=\"M501.59,-62.6C511.49,-64.3 521.06,-65.94 529.63,-67.42\"/>\n<polygon fill=\"black\" stroke=\"black\" points=\"529.09,-70.88 539.54,-69.12 530.28,-63.98 529.09,-70.88\"/>\n</g>\n<!-- 4533613184*&#45;&gt;4533613184 -->\n<g id=\"edge1\" class=\"edge\">\n<title>4533613184*&#45;&gt;4533613184</title>\n<path fill=\"none\" stroke=\"black\" d=\"M275.28,-46.5C283.12,-46.5 292.23,-46.5 301.92,-46.5\"/>\n<polygon fill=\"black\" stroke=\"black\" points=\"302.21,-50 312.21,-46.5 302.21,-43 302.21,-50\"/>\n</g>\n<!-- 4533615824 -->\n<g id=\"node5\" class=\"node\">\n<title>4533615824</title>\n<polygon fill=\"none\" stroke=\"black\" points=\"629,-55.5 629,-91.5 818,-91.5 818,-55.5 629,-55.5\"/>\n<text text-anchor=\"middle\" x=\"639\" y=\"-69.8\" font-family=\"Times,serif\" font-size=\"14.00\"> </text>\n<polyline fill=\"none\" stroke=\"black\" points=\"649,-55.5 649,-91.5 \"/>\n<text text-anchor=\"middle\" x=\"692.5\" y=\"-69.8\" font-family=\"Times,serif\" font-size=\"14.00\">data 23.7727</text>\n<polyline fill=\"none\" stroke=\"black\" points=\"736,-55.5 736,-91.5 \"/>\n<text text-anchor=\"middle\" x=\"777\" y=\"-69.8\" font-family=\"Times,serif\" font-size=\"14.00\">grad 0.0000</text>\n</g>\n<!-- 4533613040* -->\n<g id=\"node10\" class=\"node\">\n<title>4533613040*</title>\n<ellipse fill=\"none\" stroke=\"black\" cx=\"881\" cy=\"-45.5\" rx=\"27\" ry=\"18\"/>\n<text text-anchor=\"middle\" x=\"881\" y=\"-41.8\" font-family=\"Times,serif\" font-size=\"14.00\">*</text>\n</g>\n<!-- 4533615824&#45;&gt;4533613040* -->\n<g id=\"edge6\" class=\"edge\">\n<title>4533615824&#45;&gt;4533613040*</title>\n<path fill=\"none\" stroke=\"black\" d=\"M818.1,-56.65C827.4,-54.97 836.38,-53.35 844.49,-51.89\"/>\n<polygon fill=\"black\" stroke=\"black\" points=\"845.37,-55.29 854.59,-50.07 844.13,-48.4 845.37,-55.29\"/>\n</g>\n<!-- 4533615824+&#45;&gt;4533615824 -->\n<g id=\"edge2\" class=\"edge\">\n<title>4533615824+&#45;&gt;4533615824</title>\n<path fill=\"none\" stroke=\"black\" d=\"M593.03,-73.5C600.66,-73.5 609.52,-73.5 618.94,-73.5\"/>\n<polygon fill=\"black\" stroke=\"black\" points=\"618.94,-77 628.94,-73.5 618.94,-70 618.94,-77\"/>\n</g>\n<!-- 4533245216 -->\n<g id=\"node7\" class=\"node\">\n<title>4533245216</title>\n<polygon fill=\"none\" stroke=\"black\" points=\"629.5,-0.5 629.5,-36.5 817.5,-36.5 817.5,-0.5 629.5,-0.5\"/>\n<text text-anchor=\"middle\" x=\"640\" y=\"-14.8\" font-family=\"Times,serif\" font-size=\"14.00\">f</text>\n<polyline fill=\"none\" stroke=\"black\" points=\"650.5,-0.5 650.5,-36.5 \"/>\n<text text-anchor=\"middle\" x=\"693\" y=\"-14.8\" font-family=\"Times,serif\" font-size=\"14.00\">data &#45;2.0000</text>\n<polyline fill=\"none\" stroke=\"black\" points=\"735.5,-0.5 735.5,-36.5 \"/>\n<text text-anchor=\"middle\" x=\"776.5\" y=\"-14.8\" font-family=\"Times,serif\" font-size=\"14.00\">grad 0.0000</text>\n</g>\n<!-- 4533245216&#45;&gt;4533613040* -->\n<g id=\"edge8\" class=\"edge\">\n<title>4533245216&#45;&gt;4533613040*</title>\n<path fill=\"none\" stroke=\"black\" d=\"M817.65,-34.67C827.2,-36.33 836.43,-37.93 844.72,-39.37\"/>\n<polygon fill=\"black\" stroke=\"black\" points=\"844.24,-42.84 854.69,-41.11 845.44,-35.95 844.24,-42.84\"/>\n</g>\n<!-- 4533245264 -->\n<g id=\"node8\" class=\"node\">\n<title>4533245264</title>\n<polygon fill=\"none\" stroke=\"black\" points=\"0,-1.5 0,-37.5 185,-37.5 185,-1.5 0,-1.5\"/>\n<text text-anchor=\"middle\" x=\"11.5\" y=\"-15.8\" font-family=\"Times,serif\" font-size=\"14.00\">b</text>\n<polyline fill=\"none\" stroke=\"black\" points=\"23,-1.5 23,-37.5 \"/>\n<text text-anchor=\"middle\" x=\"63\" y=\"-15.8\" font-family=\"Times,serif\" font-size=\"14.00\">data 6.8864</text>\n<polyline fill=\"none\" stroke=\"black\" points=\"103,-1.5 103,-37.5 \"/>\n<text text-anchor=\"middle\" x=\"144\" y=\"-15.8\" font-family=\"Times,serif\" font-size=\"14.00\">grad 0.5000</text>\n</g>\n<!-- 4533245264&#45;&gt;4533613184* -->\n<g id=\"edge4\" class=\"edge\">\n<title>4533245264&#45;&gt;4533613184*</title>\n<path fill=\"none\" stroke=\"black\" d=\"M185.01,-35.6C194.49,-37.26 203.66,-38.88 211.9,-40.33\"/>\n<polygon fill=\"black\" stroke=\"black\" points=\"211.36,-43.78 221.81,-42.07 212.57,-36.89 211.36,-43.78\"/>\n</g>\n<!-- 4533613040 -->\n<g id=\"node9\" class=\"node\">\n<title>4533613040</title>\n<polygon fill=\"none\" stroke=\"black\" points=\"944,-27.5 944,-63.5 1138,-63.5 1138,-27.5 944,-27.5\"/>\n<text text-anchor=\"middle\" x=\"954\" y=\"-41.8\" font-family=\"Times,serif\" font-size=\"14.00\"> </text>\n<polyline fill=\"none\" stroke=\"black\" points=\"964,-27.5 964,-63.5 \"/>\n<text text-anchor=\"middle\" x=\"1010\" y=\"-41.8\" font-family=\"Times,serif\" font-size=\"14.00\">data &#45;47.5455</text>\n<polyline fill=\"none\" stroke=\"black\" points=\"1056,-27.5 1056,-63.5 \"/>\n<text text-anchor=\"middle\" x=\"1097\" y=\"-41.8\" font-family=\"Times,serif\" font-size=\"14.00\">grad 0.0000</text>\n</g>\n<!-- 4533613040*&#45;&gt;4533613040 -->\n<g id=\"edge3\" class=\"edge\">\n<title>4533613040*&#45;&gt;4533613040</title>\n<path fill=\"none\" stroke=\"black\" d=\"M908.09,-45.5C915.62,-45.5 924.34,-45.5 933.63,-45.5\"/>\n<polygon fill=\"black\" stroke=\"black\" points=\"933.92,-49 943.92,-45.5 933.92,-42 933.92,-49\"/>\n</g>\n</g>\n</svg>\n",
      "text/plain": [
       "<graphviz.graphs.Digraph at 0x10e3979a0>"
      ]
     },
     "execution_count": 47,
     "metadata": {},
     "output_type": "execute_result"
    }
   ],
   "source": [
    "#multiplication between the learning rate and gradient \n",
    "a.data += 0.01 * a.grad\n",
    "b.data += 0.01 * b.grad\n",
    "c.data += 0.01 * c.grad\n",
    "f.data += 0.01 * f.grad\n",
    "\n",
    "e = a * b\n",
    "d = e + c\n",
    "L = d * f\n",
    "\n",
    "print (L.data)\n",
    "draw_dot(L)\n"
   ]
  },
  {
   "cell_type": "markdown",
   "metadata": {},
   "source": [
    "We compute the derivate in respected to L and all variables respect to the Loss (L) function\n",
    "\n",
    "How does the weight impact the LOSS function? We represent the derivative of the output in respect of L"
   ]
  },
  {
   "cell_type": "code",
   "execution_count": 19,
   "metadata": {},
   "outputs": [
    {
     "name": "stdout",
     "output_type": "stream",
     "text": [
      "6.000000000021544\n"
     ]
    }
   ],
   "source": [
    "def lol():\n",
    "    #change amount in function and check how it behave\n",
    "    h = 0.0001\n",
    "\n",
    "    a = Value(2.0, label='a')\n",
    "    b = Value(-3.0, label='b')\n",
    "    c = Value(10.0, label='c')\n",
    "    e = a*b; e.label = 'e'\n",
    "    d = e + c; d.label = 'd'\n",
    "    f = Value(-2.0, label = 'f')\n",
    "    L = d*f; L.label = 'L'\n",
    "    L1 = L.data #copy the value of the object\n",
    "\n",
    "    a = Value(2.0, label='a')\n",
    "    a.data += h\n",
    "    b = Value(-3.0, label='b')\n",
    "    c = Value(10.0, label='c')\n",
    "    #c.data += h\n",
    "    e = a*b; e.label = 'e'\n",
    "    d = e + c; d.label = 'd'\n",
    "    #d.data += h\n",
    "    f = Value(-2.0, label = 'f')\n",
    "    L = d*f; L.label = 'L'\n",
    "    L2 = L.data\n",
    "    print((L2 -L1)/h)\n",
    "\n",
    "lol()"
   ]
  },
  {
   "cell_type": "code",
   "execution_count": 23,
   "metadata": {},
   "outputs": [
    {
     "data": {
      "image/svg+xml": "<?xml version=\"1.0\" encoding=\"UTF-8\" standalone=\"no\"?>\n<!DOCTYPE svg PUBLIC \"-//W3C//DTD SVG 1.1//EN\"\n \"http://www.w3.org/Graphics/SVG/1.1/DTD/svg11.dtd\">\n<!-- Generated by graphviz version 2.50.0 (0)\n -->\n<!-- Pages: 1 -->\n<svg width=\"1144pt\" height=\"154pt\"\n viewBox=\"0.00 0.00 1144.00 154.00\" xmlns=\"http://www.w3.org/2000/svg\" xmlns:xlink=\"http://www.w3.org/1999/xlink\">\n<g id=\"graph0\" class=\"graph\" transform=\"scale(1 1) rotate(0) translate(4 150)\">\n<polygon fill=\"white\" stroke=\"transparent\" points=\"-4,4 -4,-150 1140,-150 1140,4 -4,4\"/>\n<!-- 4507747856 -->\n<g id=\"node1\" class=\"node\">\n<title>4507747856</title>\n<polygon fill=\"none\" stroke=\"black\" points=\"638,-54.5 638,-90.5 820,-90.5 820,-54.5 638,-54.5\"/>\n<text text-anchor=\"middle\" x=\"648\" y=\"-68.8\" font-family=\"Times,serif\" font-size=\"14.00\"> </text>\n<polyline fill=\"none\" stroke=\"black\" points=\"658,-54.5 658,-90.5 \"/>\n<text text-anchor=\"middle\" x=\"698\" y=\"-68.8\" font-family=\"Times,serif\" font-size=\"14.00\">data 3.7176</text>\n<polyline fill=\"none\" stroke=\"black\" points=\"738,-54.5 738,-90.5 \"/>\n<text text-anchor=\"middle\" x=\"779\" y=\"-68.8\" font-family=\"Times,serif\" font-size=\"14.00\">grad 0.0000</text>\n</g>\n<!-- 4507747616* -->\n<g id=\"node7\" class=\"node\">\n<title>4507747616*</title>\n<ellipse fill=\"none\" stroke=\"black\" cx=\"886\" cy=\"-99.5\" rx=\"27\" ry=\"18\"/>\n<text text-anchor=\"middle\" x=\"886\" y=\"-95.8\" font-family=\"Times,serif\" font-size=\"14.00\">*</text>\n</g>\n<!-- 4507747856&#45;&gt;4507747616* -->\n<g id=\"edge7\" class=\"edge\">\n<title>4507747856&#45;&gt;4507747616*</title>\n<path fill=\"none\" stroke=\"black\" d=\"M820.16,-88.21C830.6,-90.02 840.72,-91.79 849.74,-93.36\"/>\n<polygon fill=\"black\" stroke=\"black\" points=\"849.33,-96.84 859.78,-95.11 850.53,-89.94 849.33,-96.84\"/>\n</g>\n<!-- 4507747856+ -->\n<g id=\"node2\" class=\"node\">\n<title>4507747856+</title>\n<ellipse fill=\"none\" stroke=\"black\" cx=\"572\" cy=\"-72.5\" rx=\"27\" ry=\"18\"/>\n<text text-anchor=\"middle\" x=\"572\" y=\"-68.8\" font-family=\"Times,serif\" font-size=\"14.00\">+</text>\n</g>\n<!-- 4507747856+&#45;&gt;4507747856 -->\n<g id=\"edge1\" class=\"edge\">\n<title>4507747856+&#45;&gt;4507747856</title>\n<path fill=\"none\" stroke=\"black\" d=\"M599.29,-72.5C607.61,-72.5 617.34,-72.5 627.67,-72.5\"/>\n<polygon fill=\"black\" stroke=\"black\" points=\"627.73,-76 637.73,-72.5 627.73,-69 627.73,-76\"/>\n</g>\n<!-- 4508940320 -->\n<g id=\"node3\" class=\"node\">\n<title>4508940320</title>\n<polygon fill=\"none\" stroke=\"black\" points=\"320,-82.5 320,-118.5 509,-118.5 509,-82.5 320,-82.5\"/>\n<text text-anchor=\"middle\" x=\"331.5\" y=\"-96.8\" font-family=\"Times,serif\" font-size=\"14.00\">c</text>\n<polyline fill=\"none\" stroke=\"black\" points=\"343,-82.5 343,-118.5 \"/>\n<text text-anchor=\"middle\" x=\"383\" y=\"-96.8\" font-family=\"Times,serif\" font-size=\"14.00\">data 9.9800</text>\n<polyline fill=\"none\" stroke=\"black\" points=\"423,-82.5 423,-118.5 \"/>\n<text text-anchor=\"middle\" x=\"466\" y=\"-96.8\" font-family=\"Times,serif\" font-size=\"14.00\">grad &#45;2.0000</text>\n</g>\n<!-- 4508940320&#45;&gt;4507747856+ -->\n<g id=\"edge5\" class=\"edge\">\n<title>4508940320&#45;&gt;4507747856+</title>\n<path fill=\"none\" stroke=\"black\" d=\"M509.1,-83.65C518.4,-81.97 527.38,-80.35 535.49,-78.89\"/>\n<polygon fill=\"black\" stroke=\"black\" points=\"536.37,-82.29 545.59,-77.07 535.13,-75.4 536.37,-82.29\"/>\n</g>\n<!-- 4532290704 -->\n<g id=\"node4\" class=\"node\">\n<title>4532290704</title>\n<polygon fill=\"none\" stroke=\"black\" points=\"635,-109.5 635,-145.5 823,-145.5 823,-109.5 635,-109.5\"/>\n<text text-anchor=\"middle\" x=\"645.5\" y=\"-123.8\" font-family=\"Times,serif\" font-size=\"14.00\">f</text>\n<polyline fill=\"none\" stroke=\"black\" points=\"656,-109.5 656,-145.5 \"/>\n<text text-anchor=\"middle\" x=\"698.5\" y=\"-123.8\" font-family=\"Times,serif\" font-size=\"14.00\">data &#45;1.9600</text>\n<polyline fill=\"none\" stroke=\"black\" points=\"741,-109.5 741,-145.5 \"/>\n<text text-anchor=\"middle\" x=\"782\" y=\"-123.8\" font-family=\"Times,serif\" font-size=\"14.00\">grad 4.0000</text>\n</g>\n<!-- 4532290704&#45;&gt;4507747616* -->\n<g id=\"edge8\" class=\"edge\">\n<title>4532290704&#45;&gt;4507747616*</title>\n<path fill=\"none\" stroke=\"black\" d=\"M823.29,-110.65C832.57,-108.97 841.52,-107.35 849.61,-105.89\"/>\n<polygon fill=\"black\" stroke=\"black\" points=\"850.46,-109.3 859.68,-104.07 849.21,-102.41 850.46,-109.3\"/>\n</g>\n<!-- 4508940512 -->\n<g id=\"node5\" class=\"node\">\n<title>4508940512</title>\n<polygon fill=\"none\" stroke=\"black\" points=\"0,-55.5 0,-91.5 194,-91.5 194,-55.5 0,-55.5\"/>\n<text text-anchor=\"middle\" x=\"11.5\" y=\"-69.8\" font-family=\"Times,serif\" font-size=\"14.00\">b</text>\n<polyline fill=\"none\" stroke=\"black\" points=\"23,-55.5 23,-91.5 \"/>\n<text text-anchor=\"middle\" x=\"65.5\" y=\"-69.8\" font-family=\"Times,serif\" font-size=\"14.00\">data &#45;3.0400</text>\n<polyline fill=\"none\" stroke=\"black\" points=\"108,-55.5 108,-91.5 \"/>\n<text text-anchor=\"middle\" x=\"151\" y=\"-69.8\" font-family=\"Times,serif\" font-size=\"14.00\">grad &#45;4.0000</text>\n</g>\n<!-- 4507748240* -->\n<g id=\"node9\" class=\"node\">\n<title>4507748240*</title>\n<ellipse fill=\"none\" stroke=\"black\" cx=\"257\" cy=\"-45.5\" rx=\"27\" ry=\"18\"/>\n<text text-anchor=\"middle\" x=\"257\" y=\"-41.8\" font-family=\"Times,serif\" font-size=\"14.00\">*</text>\n</g>\n<!-- 4508940512&#45;&gt;4507748240* -->\n<g id=\"edge9\" class=\"edge\">\n<title>4508940512&#45;&gt;4507748240*</title>\n<path fill=\"none\" stroke=\"black\" d=\"M194.01,-56.49C203.35,-54.83 212.37,-53.23 220.49,-51.79\"/>\n<polygon fill=\"black\" stroke=\"black\" points=\"221.37,-55.19 230.6,-50 220.15,-48.3 221.37,-55.19\"/>\n</g>\n<!-- 4507747616 -->\n<g id=\"node6\" class=\"node\">\n<title>4507747616</title>\n<polygon fill=\"none\" stroke=\"black\" points=\"949,-81.5 949,-117.5 1136,-117.5 1136,-81.5 949,-81.5\"/>\n<text text-anchor=\"middle\" x=\"959\" y=\"-95.8\" font-family=\"Times,serif\" font-size=\"14.00\"> </text>\n<polyline fill=\"none\" stroke=\"black\" points=\"969,-81.5 969,-117.5 \"/>\n<text text-anchor=\"middle\" x=\"1011.5\" y=\"-95.8\" font-family=\"Times,serif\" font-size=\"14.00\">data &#45;7.2865</text>\n<polyline fill=\"none\" stroke=\"black\" points=\"1054,-81.5 1054,-117.5 \"/>\n<text text-anchor=\"middle\" x=\"1095\" y=\"-95.8\" font-family=\"Times,serif\" font-size=\"14.00\">grad 0.0000</text>\n</g>\n<!-- 4507747616*&#45;&gt;4507747616 -->\n<g id=\"edge2\" class=\"edge\">\n<title>4507747616*&#45;&gt;4507747616</title>\n<path fill=\"none\" stroke=\"black\" d=\"M913.21,-99.5C920.73,-99.5 929.43,-99.5 938.67,-99.5\"/>\n<polygon fill=\"black\" stroke=\"black\" points=\"938.89,-103 948.89,-99.5 938.89,-96 938.89,-103\"/>\n</g>\n<!-- 4507748240 -->\n<g id=\"node8\" class=\"node\">\n<title>4507748240</title>\n<polygon fill=\"none\" stroke=\"black\" points=\"321,-27.5 321,-63.5 508,-63.5 508,-27.5 321,-27.5\"/>\n<text text-anchor=\"middle\" x=\"331\" y=\"-41.8\" font-family=\"Times,serif\" font-size=\"14.00\"> </text>\n<polyline fill=\"none\" stroke=\"black\" points=\"341,-27.5 341,-63.5 \"/>\n<text text-anchor=\"middle\" x=\"383.5\" y=\"-41.8\" font-family=\"Times,serif\" font-size=\"14.00\">data &#45;6.2624</text>\n<polyline fill=\"none\" stroke=\"black\" points=\"426,-27.5 426,-63.5 \"/>\n<text text-anchor=\"middle\" x=\"467\" y=\"-41.8\" font-family=\"Times,serif\" font-size=\"14.00\">grad 0.0000</text>\n</g>\n<!-- 4507748240&#45;&gt;4507747856+ -->\n<g id=\"edge6\" class=\"edge\">\n<title>4507748240&#45;&gt;4507747856+</title>\n<path fill=\"none\" stroke=\"black\" d=\"M508.2,-61.6C517.9,-63.28 527.27,-64.91 535.68,-66.37\"/>\n<polygon fill=\"black\" stroke=\"black\" points=\"535.34,-69.86 545.79,-68.12 536.53,-62.96 535.34,-69.86\"/>\n</g>\n<!-- 4507748240*&#45;&gt;4507748240 -->\n<g id=\"edge3\" class=\"edge\">\n<title>4507748240*&#45;&gt;4507748240</title>\n<path fill=\"none\" stroke=\"black\" d=\"M284.03,-45.5C291.86,-45.5 300.96,-45.5 310.66,-45.5\"/>\n<polygon fill=\"black\" stroke=\"black\" points=\"310.94,-49 320.94,-45.5 310.94,-42 310.94,-49\"/>\n</g>\n<!-- 4508859888 -->\n<g id=\"node10\" class=\"node\">\n<title>4508859888</title>\n<polygon fill=\"none\" stroke=\"black\" points=\"4.5,-0.5 4.5,-36.5 189.5,-36.5 189.5,-0.5 4.5,-0.5\"/>\n<text text-anchor=\"middle\" x=\"16\" y=\"-14.8\" font-family=\"Times,serif\" font-size=\"14.00\">a</text>\n<polyline fill=\"none\" stroke=\"black\" points=\"27.5,-0.5 27.5,-36.5 \"/>\n<text text-anchor=\"middle\" x=\"67.5\" y=\"-14.8\" font-family=\"Times,serif\" font-size=\"14.00\">data 2.0600</text>\n<polyline fill=\"none\" stroke=\"black\" points=\"107.5,-0.5 107.5,-36.5 \"/>\n<text text-anchor=\"middle\" x=\"148.5\" y=\"-14.8\" font-family=\"Times,serif\" font-size=\"14.00\">grad 6.0000</text>\n</g>\n<!-- 4508859888&#45;&gt;4507748240* -->\n<g id=\"edge4\" class=\"edge\">\n<title>4508859888&#45;&gt;4507748240*</title>\n<path fill=\"none\" stroke=\"black\" d=\"M189.91,-34.21C200.76,-36.06 211.28,-37.86 220.61,-39.45\"/>\n<polygon fill=\"black\" stroke=\"black\" points=\"220.16,-42.93 230.6,-41.16 221.34,-36.03 220.16,-42.93\"/>\n</g>\n</g>\n</svg>\n",
      "text/plain": [
       "<graphviz.graphs.Digraph at 0x10e2f8e20>"
      ]
     },
     "execution_count": 23,
     "metadata": {},
     "output_type": "execute_result"
    }
   ],
   "source": [
    "draw_dot(L)"
   ]
  },
  {
   "cell_type": "code",
   "execution_count": 20,
   "metadata": {},
   "outputs": [
    {
     "data": {
      "image/png": "[encoded data removed]",
      "text/plain": [
       "<Figure size 640x480 with 1 Axes>"
      ]
     },
     "metadata": {},
     "output_type": "display_data"
    }
   ],
   "source": [
    "#basically neuron, we have synapse and this synapse has weights\n",
    "# you be between -2 and 2 - if not then we obtain the vanishing gradient (no variation)\n",
    "# The activation is key to correctly calculate the gradient\n",
    "# the inputs should be normalised (please check the NG videos for that) - it is what the neuron will learn.\n",
    "plt.plot(np.arange(-5,5,0.2), np.tanh(np.arange(-5,5,0.2))); plt.grid();\n",
    "#squash function -- function go only to -1 and 1\n",
    "#the activation function"
   ]
  },
  {
   "cell_type": "code",
   "execution_count": 31,
   "metadata": {},
   "outputs": [
    {
     "data": {
      "image/svg+xml": "<?xml version=\"1.0\" encoding=\"UTF-8\" standalone=\"no\"?>\n<!DOCTYPE svg PUBLIC \"-//W3C//DTD SVG 1.1//EN\"\n \"http://www.w3.org/Graphics/SVG/1.1/DTD/svg11.dtd\">\n<!-- Generated by graphviz version 2.50.0 (0)\n -->\n<!-- Pages: 1 -->\n<svg width=\"1546pt\" height=\"210pt\"\n viewBox=\"0.00 0.00 1546.00 210.00\" xmlns=\"http://www.w3.org/2000/svg\" xmlns:xlink=\"http://www.w3.org/1999/xlink\">\n<g id=\"graph0\" class=\"graph\" transform=\"scale(1 1) rotate(0) translate(4 206)\">\n<polygon fill=\"white\" stroke=\"transparent\" points=\"-4,4 -4,-206 1542,-206 1542,4 -4,4\"/>\n<!-- 4533246512 -->\n<g id=\"node1\" class=\"node\">\n<title>4533246512</title>\n<polygon fill=\"none\" stroke=\"black\" points=\"1042,-54.5 1042,-90.5 1227,-90.5 1227,-54.5 1042,-54.5\"/>\n<text text-anchor=\"middle\" x=\"1053.5\" y=\"-68.8\" font-family=\"Times,serif\" font-size=\"14.00\">n</text>\n<polyline fill=\"none\" stroke=\"black\" points=\"1065,-54.5 1065,-90.5 \"/>\n<text text-anchor=\"middle\" x=\"1105\" y=\"-68.8\" font-family=\"Times,serif\" font-size=\"14.00\">data 0.7000</text>\n<polyline fill=\"none\" stroke=\"black\" points=\"1145,-54.5 1145,-90.5 \"/>\n<text text-anchor=\"middle\" x=\"1186\" y=\"-68.8\" font-family=\"Times,serif\" font-size=\"14.00\">grad 0.0000</text>\n</g>\n<!-- 4533244256tanh -->\n<g id=\"node10\" class=\"node\">\n<title>4533244256tanh</title>\n<ellipse fill=\"none\" stroke=\"black\" cx=\"1290\" cy=\"-72.5\" rx=\"27\" ry=\"18\"/>\n<text text-anchor=\"middle\" x=\"1290\" y=\"-68.8\" font-family=\"Times,serif\" font-size=\"14.00\">tanh</text>\n</g>\n<!-- 4533246512&#45;&gt;4533244256tanh -->\n<g id=\"edge8\" class=\"edge\">\n<title>4533246512&#45;&gt;4533244256tanh</title>\n<path fill=\"none\" stroke=\"black\" d=\"M1227.01,-72.5C1236.01,-72.5 1244.74,-72.5 1252.66,-72.5\"/>\n<polygon fill=\"black\" stroke=\"black\" points=\"1252.91,-76 1262.91,-72.5 1252.91,-69 1252.91,-76\"/>\n</g>\n<!-- 4533246512+ -->\n<g id=\"node2\" class=\"node\">\n<title>4533246512+</title>\n<ellipse fill=\"none\" stroke=\"black\" cx=\"979\" cy=\"-72.5\" rx=\"27\" ry=\"18\"/>\n<text text-anchor=\"middle\" x=\"979\" y=\"-68.8\" font-family=\"Times,serif\" font-size=\"14.00\">+</text>\n</g>\n<!-- 4533246512+&#45;&gt;4533246512 -->\n<g id=\"edge1\" class=\"edge\">\n<title>4533246512+&#45;&gt;4533246512</title>\n<path fill=\"none\" stroke=\"black\" d=\"M1006.04,-72.5C1013.58,-72.5 1022.3,-72.5 1031.57,-72.5\"/>\n<polygon fill=\"black\" stroke=\"black\" points=\"1031.81,-76 1041.81,-72.5 1031.81,-69 1031.81,-76\"/>\n</g>\n<!-- 4532291184 -->\n<g id=\"node3\" class=\"node\">\n<title>4532291184</title>\n<polygon fill=\"none\" stroke=\"black\" points=\"4,-165.5 4,-201.5 196,-201.5 196,-165.5 4,-165.5\"/>\n<text text-anchor=\"middle\" x=\"19\" y=\"-179.8\" font-family=\"Times,serif\" font-size=\"14.00\">x1</text>\n<polyline fill=\"none\" stroke=\"black\" points=\"34,-165.5 34,-201.5 \"/>\n<text text-anchor=\"middle\" x=\"74\" y=\"-179.8\" font-family=\"Times,serif\" font-size=\"14.00\">data 2.0000</text>\n<polyline fill=\"none\" stroke=\"black\" points=\"114,-165.5 114,-201.5 \"/>\n<text text-anchor=\"middle\" x=\"155\" y=\"-179.8\" font-family=\"Times,serif\" font-size=\"14.00\">grad 0.0000</text>\n</g>\n<!-- 4532292336* -->\n<g id=\"node6\" class=\"node\">\n<title>4532292336*</title>\n<ellipse fill=\"none\" stroke=\"black\" cx=\"263\" cy=\"-128.5\" rx=\"27\" ry=\"18\"/>\n<text text-anchor=\"middle\" x=\"263\" y=\"-124.8\" font-family=\"Times,serif\" font-size=\"14.00\">*</text>\n</g>\n<!-- 4532291184&#45;&gt;4532292336* -->\n<g id=\"edge10\" class=\"edge\">\n<title>4532291184&#45;&gt;4532292336*</title>\n<path fill=\"none\" stroke=\"black\" d=\"M172.53,-165.44C181.84,-162.67 191.2,-159.67 200,-156.5 210.53,-152.71 221.75,-147.9 231.72,-143.33\"/>\n<polygon fill=\"black\" stroke=\"black\" points=\"233.25,-146.48 240.82,-139.07 230.28,-140.14 233.25,-146.48\"/>\n</g>\n<!-- 4533041856 -->\n<g id=\"node4\" class=\"node\">\n<title>4533041856</title>\n<polygon fill=\"none\" stroke=\"black\" points=\"4,-55.5 4,-91.5 196,-91.5 196,-55.5 4,-55.5\"/>\n<text text-anchor=\"middle\" x=\"19\" y=\"-69.8\" font-family=\"Times,serif\" font-size=\"14.00\">x2</text>\n<polyline fill=\"none\" stroke=\"black\" points=\"34,-55.5 34,-91.5 \"/>\n<text text-anchor=\"middle\" x=\"74\" y=\"-69.8\" font-family=\"Times,serif\" font-size=\"14.00\">data 0.0000</text>\n<polyline fill=\"none\" stroke=\"black\" points=\"114,-55.5 114,-91.5 \"/>\n<text text-anchor=\"middle\" x=\"155\" y=\"-69.8\" font-family=\"Times,serif\" font-size=\"14.00\">grad 0.0000</text>\n</g>\n<!-- 4532290416* -->\n<g id=\"node12\" class=\"node\">\n<title>4532290416*</title>\n<ellipse fill=\"none\" stroke=\"black\" cx=\"263\" cy=\"-73.5\" rx=\"27\" ry=\"18\"/>\n<text text-anchor=\"middle\" x=\"263\" y=\"-69.8\" font-family=\"Times,serif\" font-size=\"14.00\">*</text>\n</g>\n<!-- 4533041856&#45;&gt;4532290416* -->\n<g id=\"edge7\" class=\"edge\">\n<title>4533041856&#45;&gt;4532290416*</title>\n<path fill=\"none\" stroke=\"black\" d=\"M196.05,-73.5C206.52,-73.5 216.65,-73.5 225.71,-73.5\"/>\n<polygon fill=\"black\" stroke=\"black\" points=\"225.79,-77 235.79,-73.5 225.79,-70 225.79,-77\"/>\n</g>\n<!-- 4532292336 -->\n<g id=\"node5\" class=\"node\">\n<title>4532292336</title>\n<polygon fill=\"none\" stroke=\"black\" points=\"326,-110.5 326,-146.5 546,-146.5 546,-110.5 326,-110.5\"/>\n<text text-anchor=\"middle\" x=\"352.5\" y=\"-124.8\" font-family=\"Times,serif\" font-size=\"14.00\">x1*w1</text>\n<polyline fill=\"none\" stroke=\"black\" points=\"379,-110.5 379,-146.5 \"/>\n<text text-anchor=\"middle\" x=\"421.5\" y=\"-124.8\" font-family=\"Times,serif\" font-size=\"14.00\">data &#45;6.0000</text>\n<polyline fill=\"none\" stroke=\"black\" points=\"464,-110.5 464,-146.5 \"/>\n<text text-anchor=\"middle\" x=\"505\" y=\"-124.8\" font-family=\"Times,serif\" font-size=\"14.00\">grad 0.0000</text>\n</g>\n<!-- 4533244208+ -->\n<g id=\"node8\" class=\"node\">\n<title>4533244208+</title>\n<ellipse fill=\"none\" stroke=\"black\" cx=\"609\" cy=\"-100.5\" rx=\"27\" ry=\"18\"/>\n<text text-anchor=\"middle\" x=\"609\" y=\"-96.8\" font-family=\"Times,serif\" font-size=\"14.00\">+</text>\n</g>\n<!-- 4532292336&#45;&gt;4533244208+ -->\n<g id=\"edge12\" class=\"edge\">\n<title>4532292336&#45;&gt;4533244208+</title>\n<path fill=\"none\" stroke=\"black\" d=\"M546.27,-110.61C555.64,-109.07 564.6,-107.61 572.65,-106.29\"/>\n<polygon fill=\"black\" stroke=\"black\" points=\"573.35,-109.72 582.65,-104.65 572.22,-102.81 573.35,-109.72\"/>\n</g>\n<!-- 4532292336*&#45;&gt;4532292336 -->\n<g id=\"edge2\" class=\"edge\">\n<title>4532292336*&#45;&gt;4532292336</title>\n<path fill=\"none\" stroke=\"black\" d=\"M290.34,-128.5C297.77,-128.5 306.37,-128.5 315.6,-128.5\"/>\n<polygon fill=\"black\" stroke=\"black\" points=\"315.84,-132 325.84,-128.5 315.84,-125 315.84,-132\"/>\n</g>\n<!-- 4533244208 -->\n<g id=\"node7\" class=\"node\">\n<title>4533244208</title>\n<polygon fill=\"none\" stroke=\"black\" points=\"672,-82.5 672,-118.5 916,-118.5 916,-82.5 672,-82.5\"/>\n<text text-anchor=\"middle\" x=\"710.5\" y=\"-96.8\" font-family=\"Times,serif\" font-size=\"14.00\">x1w1x2w2</text>\n<polyline fill=\"none\" stroke=\"black\" points=\"749,-82.5 749,-118.5 \"/>\n<text text-anchor=\"middle\" x=\"791.5\" y=\"-96.8\" font-family=\"Times,serif\" font-size=\"14.00\">data &#45;6.0000</text>\n<polyline fill=\"none\" stroke=\"black\" points=\"834,-82.5 834,-118.5 \"/>\n<text text-anchor=\"middle\" x=\"875\" y=\"-96.8\" font-family=\"Times,serif\" font-size=\"14.00\">grad 0.0000</text>\n</g>\n<!-- 4533244208&#45;&gt;4533246512+ -->\n<g id=\"edge13\" class=\"edge\">\n<title>4533244208&#45;&gt;4533246512+</title>\n<path fill=\"none\" stroke=\"black\" d=\"M912.71,-82.49C923.38,-80.86 933.53,-79.3 942.51,-77.93\"/>\n<polygon fill=\"black\" stroke=\"black\" points=\"943.13,-81.38 952.48,-76.4 942.07,-74.46 943.13,-81.38\"/>\n</g>\n<!-- 4533244208+&#45;&gt;4533244208 -->\n<g id=\"edge3\" class=\"edge\">\n<title>4533244208+&#45;&gt;4533244208</title>\n<path fill=\"none\" stroke=\"black\" d=\"M636.22,-100.5C643.7,-100.5 652.4,-100.5 661.79,-100.5\"/>\n<polygon fill=\"black\" stroke=\"black\" points=\"661.8,-104 671.8,-100.5 661.8,-97 661.8,-104\"/>\n</g>\n<!-- 4533244256 -->\n<g id=\"node9\" class=\"node\">\n<title>4533244256</title>\n<polygon fill=\"none\" stroke=\"black\" points=\"1353,-54.5 1353,-90.5 1538,-90.5 1538,-54.5 1353,-54.5\"/>\n<text text-anchor=\"middle\" x=\"1364.5\" y=\"-68.8\" font-family=\"Times,serif\" font-size=\"14.00\">o</text>\n<polyline fill=\"none\" stroke=\"black\" points=\"1376,-54.5 1376,-90.5 \"/>\n<text text-anchor=\"middle\" x=\"1416\" y=\"-68.8\" font-family=\"Times,serif\" font-size=\"14.00\">data 0.6044</text>\n<polyline fill=\"none\" stroke=\"black\" points=\"1456,-54.5 1456,-90.5 \"/>\n<text text-anchor=\"middle\" x=\"1497\" y=\"-68.8\" font-family=\"Times,serif\" font-size=\"14.00\">grad 0.0000</text>\n</g>\n<!-- 4533244256tanh&#45;&gt;4533244256 -->\n<g id=\"edge4\" class=\"edge\">\n<title>4533244256tanh&#45;&gt;4533244256</title>\n<path fill=\"none\" stroke=\"black\" d=\"M1317.04,-72.5C1324.58,-72.5 1333.3,-72.5 1342.57,-72.5\"/>\n<polygon fill=\"black\" stroke=\"black\" points=\"1342.81,-76 1352.81,-72.5 1342.81,-69 1342.81,-76\"/>\n</g>\n<!-- 4532290416 -->\n<g id=\"node11\" class=\"node\">\n<title>4532290416</title>\n<polygon fill=\"none\" stroke=\"black\" points=\"328.5,-55.5 328.5,-91.5 543.5,-91.5 543.5,-55.5 328.5,-55.5\"/>\n<text text-anchor=\"middle\" x=\"355\" y=\"-69.8\" font-family=\"Times,serif\" font-size=\"14.00\">x2*w2</text>\n<polyline fill=\"none\" stroke=\"black\" points=\"381.5,-55.5 381.5,-91.5 \"/>\n<text text-anchor=\"middle\" x=\"421.5\" y=\"-69.8\" font-family=\"Times,serif\" font-size=\"14.00\">data 0.0000</text>\n<polyline fill=\"none\" stroke=\"black\" points=\"461.5,-55.5 461.5,-91.5 \"/>\n<text text-anchor=\"middle\" x=\"502.5\" y=\"-69.8\" font-family=\"Times,serif\" font-size=\"14.00\">grad 0.0000</text>\n</g>\n<!-- 4532290416&#45;&gt;4533244208+ -->\n<g id=\"edge6\" class=\"edge\">\n<title>4532290416&#45;&gt;4533244208+</title>\n<path fill=\"none\" stroke=\"black\" d=\"M543.84,-90.37C554.01,-91.98 563.76,-93.51 572.44,-94.89\"/>\n<polygon fill=\"black\" stroke=\"black\" points=\"572.05,-98.37 582.47,-96.47 573.14,-91.45 572.05,-98.37\"/>\n</g>\n<!-- 4532290416*&#45;&gt;4532290416 -->\n<g id=\"edge5\" class=\"edge\">\n<title>4532290416*&#45;&gt;4532290416</title>\n<path fill=\"none\" stroke=\"black\" d=\"M290.34,-73.5C298.51,-73.5 308.08,-73.5 318.36,-73.5\"/>\n<polygon fill=\"black\" stroke=\"black\" points=\"318.39,-77 328.39,-73.5 318.39,-70 318.39,-77\"/>\n</g>\n<!-- 4532290992 -->\n<g id=\"node13\" class=\"node\">\n<title>4532290992</title>\n<polygon fill=\"none\" stroke=\"black\" points=\"2.5,-0.5 2.5,-36.5 197.5,-36.5 197.5,-0.5 2.5,-0.5\"/>\n<text text-anchor=\"middle\" x=\"19\" y=\"-14.8\" font-family=\"Times,serif\" font-size=\"14.00\">w2</text>\n<polyline fill=\"none\" stroke=\"black\" points=\"35.5,-0.5 35.5,-36.5 \"/>\n<text text-anchor=\"middle\" x=\"75.5\" y=\"-14.8\" font-family=\"Times,serif\" font-size=\"14.00\">data 1.0000</text>\n<polyline fill=\"none\" stroke=\"black\" points=\"115.5,-0.5 115.5,-36.5 \"/>\n<text text-anchor=\"middle\" x=\"156.5\" y=\"-14.8\" font-family=\"Times,serif\" font-size=\"14.00\">grad 0.0000</text>\n</g>\n<!-- 4532290992&#45;&gt;4532290416* -->\n<g id=\"edge14\" class=\"edge\">\n<title>4532290992&#45;&gt;4532290416*</title>\n<path fill=\"none\" stroke=\"black\" d=\"M172.53,-36.56C181.84,-39.33 191.2,-42.33 200,-45.5 210.53,-49.29 221.75,-54.1 231.72,-58.67\"/>\n<polygon fill=\"black\" stroke=\"black\" points=\"230.28,-61.86 240.82,-62.93 233.25,-55.52 230.28,-61.86\"/>\n</g>\n<!-- 4532290512 -->\n<g id=\"node14\" class=\"node\">\n<title>4532290512</title>\n<polygon fill=\"none\" stroke=\"black\" points=\"0,-110.5 0,-146.5 200,-146.5 200,-110.5 0,-110.5\"/>\n<text text-anchor=\"middle\" x=\"16.5\" y=\"-124.8\" font-family=\"Times,serif\" font-size=\"14.00\">w1</text>\n<polyline fill=\"none\" stroke=\"black\" points=\"33,-110.5 33,-146.5 \"/>\n<text text-anchor=\"middle\" x=\"75.5\" y=\"-124.8\" font-family=\"Times,serif\" font-size=\"14.00\">data &#45;3.0000</text>\n<polyline fill=\"none\" stroke=\"black\" points=\"118,-110.5 118,-146.5 \"/>\n<text text-anchor=\"middle\" x=\"159\" y=\"-124.8\" font-family=\"Times,serif\" font-size=\"14.00\">grad 0.0000</text>\n</g>\n<!-- 4532290512&#45;&gt;4532292336* -->\n<g id=\"edge11\" class=\"edge\">\n<title>4532290512&#45;&gt;4532292336*</title>\n<path fill=\"none\" stroke=\"black\" d=\"M200.21,-128.5C209.2,-128.5 217.86,-128.5 225.7,-128.5\"/>\n<polygon fill=\"black\" stroke=\"black\" points=\"225.85,-132 235.85,-128.5 225.85,-125 225.85,-132\"/>\n</g>\n<!-- 4532291040 -->\n<g id=\"node15\" class=\"node\">\n<title>4532291040</title>\n<polygon fill=\"none\" stroke=\"black\" points=\"701.5,-27.5 701.5,-63.5 886.5,-63.5 886.5,-27.5 701.5,-27.5\"/>\n<text text-anchor=\"middle\" x=\"713\" y=\"-41.8\" font-family=\"Times,serif\" font-size=\"14.00\">b</text>\n<polyline fill=\"none\" stroke=\"black\" points=\"724.5,-27.5 724.5,-63.5 \"/>\n<text text-anchor=\"middle\" x=\"764.5\" y=\"-41.8\" font-family=\"Times,serif\" font-size=\"14.00\">data 6.7000</text>\n<polyline fill=\"none\" stroke=\"black\" points=\"804.5,-27.5 804.5,-63.5 \"/>\n<text text-anchor=\"middle\" x=\"845.5\" y=\"-41.8\" font-family=\"Times,serif\" font-size=\"14.00\">grad 0.0000</text>\n</g>\n<!-- 4532291040&#45;&gt;4533246512+ -->\n<g id=\"edge9\" class=\"edge\">\n<title>4532291040&#45;&gt;4533246512+</title>\n<path fill=\"none\" stroke=\"black\" d=\"M886.77,-59.04C906.52,-61.95 926.26,-64.87 942.29,-67.23\"/>\n<polygon fill=\"black\" stroke=\"black\" points=\"941.86,-70.71 952.26,-68.7 942.88,-63.78 941.86,-70.71\"/>\n</g>\n</g>\n</svg>\n",
      "text/plain": [
       "<graphviz.graphs.Digraph at 0x10e254be0>"
      ]
     },
     "execution_count": 31,
     "metadata": {},
     "output_type": "execute_result"
    }
   ],
   "source": [
    "#inputs x1, x2 two dimension neuron - two inputs are coming in \n",
    "#synapse strength for each neuron\n",
    "x1 = Value(2.0, label='x1')\n",
    "x2 = Value(0.0, label='x2')\n",
    "#weights w1, w2\n",
    "w1 = Value(-3.0, label='w1')\n",
    "w2 = Value(1.0, label='w2')\n",
    "#bias of the neuron\n",
    "b = Value(6.7, label = 'b')\n",
    "x1w1 = x1*w1; x1w1.label = 'x1*w1'\n",
    "x2w2 = x2*w2; x2w2.label = 'x2*w2'\n",
    "#x1*w1 + x2*w2 + b\n",
    "x1w1x2w2= x1w1 + x2w2; x1w1x2w2.label = 'x1w1x2w2'\n",
    "n = x1w1x2w2 + b; n.label = 'n'\n",
    "o = n.tanh(); o.label = 'o' #hyperbolic functons - exponential\n",
    "draw_dot(n)\n",
    "draw_dot(o)"
   ]
  },
  {
   "cell_type": "code",
   "execution_count": 51,
   "metadata": {},
   "outputs": [],
   "source": [
    "o.grad = 1.0"
   ]
  },
  {
   "cell_type": "code",
   "execution_count": 92,
   "metadata": {},
   "outputs": [],
   "source": [
    "#inputs x1, x2 two dimension neuron - two inputs are coming in \n",
    "#synapse strength for each neuron\n",
    "x1 = Value(2.0, label='x1')\n",
    "x2 = Value(0.0, label='x2')\n",
    "#weights w1, w2\n",
    "w1 = Value(-3.0, label='w1')\n",
    "w2 = Value(1.0, label='w2')\n",
    "#bias of the neuron\n",
    "b = Value(6.88137335870195432, label = 'b') #8 and 6.7\n",
    "x1w1 = x1*w1; x1w1.label = 'x1*w1'\n",
    "x2w2 = x2*w2; x2w2.label = 'x2*w2'\n",
    "#x1*w1 + x2*w2 + b\n",
    "x1w1x2w2= x1w1 + x2w2; x1w1x2w2.label = 'x1*w1 + x2*w2'\n",
    "n = x1w1x2w2 + b; n.label = 'n'\n",
    "o = n.tanh(); o.label = 'o' #hyperbolic functons - exponential\n",
    "#draw_dot(n)\n",
    "#draw_dot(o)"
   ]
  },
  {
   "cell_type": "code",
   "execution_count": 102,
   "metadata": {},
   "outputs": [
    {
     "data": {
      "image/svg+xml": "<?xml version=\"1.0\" encoding=\"UTF-8\" standalone=\"no\"?>\n<!DOCTYPE svg PUBLIC \"-//W3C//DTD SVG 1.1//EN\"\n \"http://www.w3.org/Graphics/SVG/1.1/DTD/svg11.dtd\">\n<!-- Generated by graphviz version 2.50.0 (0)\n -->\n<!-- Pages: 1 -->\n<svg width=\"1579pt\" height=\"210pt\"\n viewBox=\"0.00 0.00 1579.00 210.00\" xmlns=\"http://www.w3.org/2000/svg\" xmlns:xlink=\"http://www.w3.org/1999/xlink\">\n<g id=\"graph0\" class=\"graph\" transform=\"scale(1 1) rotate(0) translate(4 206)\">\n<polygon fill=\"white\" stroke=\"transparent\" points=\"-4,4 -4,-206 1575,-206 1575,4 -4,4\"/>\n<!-- 4534457344 -->\n<g id=\"node1\" class=\"node\">\n<title>4534457344</title>\n<polygon fill=\"none\" stroke=\"black\" points=\"4,-165.5 4,-201.5 200,-201.5 200,-165.5 4,-165.5\"/>\n<text text-anchor=\"middle\" x=\"19\" y=\"-179.8\" font-family=\"Times,serif\" font-size=\"14.00\">x1</text>\n<polyline fill=\"none\" stroke=\"black\" points=\"34,-165.5 34,-201.5 \"/>\n<text text-anchor=\"middle\" x=\"74\" y=\"-179.8\" font-family=\"Times,serif\" font-size=\"14.00\">data 2.0000</text>\n<polyline fill=\"none\" stroke=\"black\" points=\"114,-165.5 114,-201.5 \"/>\n<text text-anchor=\"middle\" x=\"157\" y=\"-179.8\" font-family=\"Times,serif\" font-size=\"14.00\">grad &#45;1.5000</text>\n</g>\n<!-- 4534460224* -->\n<g id=\"node14\" class=\"node\">\n<title>4534460224*</title>\n<ellipse fill=\"none\" stroke=\"black\" cx=\"267\" cy=\"-128.5\" rx=\"27\" ry=\"18\"/>\n<text text-anchor=\"middle\" x=\"267\" y=\"-124.8\" font-family=\"Times,serif\" font-size=\"14.00\">*</text>\n</g>\n<!-- 4534457344&#45;&gt;4534460224* -->\n<g id=\"edge14\" class=\"edge\">\n<title>4534457344&#45;&gt;4534460224*</title>\n<path fill=\"none\" stroke=\"black\" d=\"M176.26,-165.43C185.67,-162.67 195.11,-159.67 204,-156.5 214.54,-152.74 225.77,-147.93 235.73,-143.36\"/>\n<polygon fill=\"black\" stroke=\"black\" points=\"237.26,-146.51 244.83,-139.09 234.29,-140.17 237.26,-146.51\"/>\n</g>\n<!-- 4534458880 -->\n<g id=\"node2\" class=\"node\">\n<title>4534458880</title>\n<polygon fill=\"none\" stroke=\"black\" points=\"4.5,-55.5 4.5,-91.5 199.5,-91.5 199.5,-55.5 4.5,-55.5\"/>\n<text text-anchor=\"middle\" x=\"21\" y=\"-69.8\" font-family=\"Times,serif\" font-size=\"14.00\">w2</text>\n<polyline fill=\"none\" stroke=\"black\" points=\"37.5,-55.5 37.5,-91.5 \"/>\n<text text-anchor=\"middle\" x=\"77.5\" y=\"-69.8\" font-family=\"Times,serif\" font-size=\"14.00\">data 1.0000</text>\n<polyline fill=\"none\" stroke=\"black\" points=\"117.5,-55.5 117.5,-91.5 \"/>\n<text text-anchor=\"middle\" x=\"158.5\" y=\"-69.8\" font-family=\"Times,serif\" font-size=\"14.00\">grad 0.2500</text>\n</g>\n<!-- 4534898896* -->\n<g id=\"node7\" class=\"node\">\n<title>4534898896*</title>\n<ellipse fill=\"none\" stroke=\"black\" cx=\"267\" cy=\"-73.5\" rx=\"27\" ry=\"18\"/>\n<text text-anchor=\"middle\" x=\"267\" y=\"-69.8\" font-family=\"Times,serif\" font-size=\"14.00\">*</text>\n</g>\n<!-- 4534458880&#45;&gt;4534898896* -->\n<g id=\"edge8\" class=\"edge\">\n<title>4534458880&#45;&gt;4534898896*</title>\n<path fill=\"none\" stroke=\"black\" d=\"M199.7,-73.5C210.34,-73.5 220.63,-73.5 229.79,-73.5\"/>\n<polygon fill=\"black\" stroke=\"black\" points=\"229.99,-77 239.99,-73.5 229.99,-70 229.99,-77\"/>\n</g>\n<!-- 4534899328 -->\n<g id=\"node3\" class=\"node\">\n<title>4534899328</title>\n<polygon fill=\"none\" stroke=\"black\" points=\"1075,-54.5 1075,-90.5 1260,-90.5 1260,-54.5 1075,-54.5\"/>\n<text text-anchor=\"middle\" x=\"1086.5\" y=\"-68.8\" font-family=\"Times,serif\" font-size=\"14.00\">n</text>\n<polyline fill=\"none\" stroke=\"black\" points=\"1098,-54.5 1098,-90.5 \"/>\n<text text-anchor=\"middle\" x=\"1138\" y=\"-68.8\" font-family=\"Times,serif\" font-size=\"14.00\">data 0.8814</text>\n<polyline fill=\"none\" stroke=\"black\" points=\"1178,-54.5 1178,-90.5 \"/>\n<text text-anchor=\"middle\" x=\"1219\" y=\"-68.8\" font-family=\"Times,serif\" font-size=\"14.00\">grad 0.5000</text>\n</g>\n<!-- 4534899520tanh -->\n<g id=\"node12\" class=\"node\">\n<title>4534899520tanh</title>\n<ellipse fill=\"none\" stroke=\"black\" cx=\"1323\" cy=\"-72.5\" rx=\"27\" ry=\"18\"/>\n<text text-anchor=\"middle\" x=\"1323\" y=\"-68.8\" font-family=\"Times,serif\" font-size=\"14.00\">tanh</text>\n</g>\n<!-- 4534899328&#45;&gt;4534899520tanh -->\n<g id=\"edge12\" class=\"edge\">\n<title>4534899328&#45;&gt;4534899520tanh</title>\n<path fill=\"none\" stroke=\"black\" d=\"M1260.01,-72.5C1269.01,-72.5 1277.74,-72.5 1285.66,-72.5\"/>\n<polygon fill=\"black\" stroke=\"black\" points=\"1285.91,-76 1295.91,-72.5 1285.91,-69 1285.91,-76\"/>\n</g>\n<!-- 4534899328+ -->\n<g id=\"node4\" class=\"node\">\n<title>4534899328+</title>\n<ellipse fill=\"none\" stroke=\"black\" cx=\"1012\" cy=\"-72.5\" rx=\"27\" ry=\"18\"/>\n<text text-anchor=\"middle\" x=\"1012\" y=\"-68.8\" font-family=\"Times,serif\" font-size=\"14.00\">+</text>\n</g>\n<!-- 4534899328+&#45;&gt;4534899328 -->\n<g id=\"edge1\" class=\"edge\">\n<title>4534899328+&#45;&gt;4534899328</title>\n<path fill=\"none\" stroke=\"black\" d=\"M1039.04,-72.5C1046.58,-72.5 1055.3,-72.5 1064.57,-72.5\"/>\n<polygon fill=\"black\" stroke=\"black\" points=\"1064.81,-76 1074.81,-72.5 1064.81,-69 1064.81,-76\"/>\n</g>\n<!-- 4534459552 -->\n<g id=\"node5\" class=\"node\">\n<title>4534459552</title>\n<polygon fill=\"none\" stroke=\"black\" points=\"0,-110.5 0,-146.5 204,-146.5 204,-110.5 0,-110.5\"/>\n<text text-anchor=\"middle\" x=\"16.5\" y=\"-124.8\" font-family=\"Times,serif\" font-size=\"14.00\">w1</text>\n<polyline fill=\"none\" stroke=\"black\" points=\"33,-110.5 33,-146.5 \"/>\n<text text-anchor=\"middle\" x=\"75.5\" y=\"-124.8\" font-family=\"Times,serif\" font-size=\"14.00\">data &#45;3.0000</text>\n<polyline fill=\"none\" stroke=\"black\" points=\"118,-110.5 118,-146.5 \"/>\n<text text-anchor=\"middle\" x=\"161\" y=\"-124.8\" font-family=\"Times,serif\" font-size=\"14.00\">grad &#45;0.7500</text>\n</g>\n<!-- 4534459552&#45;&gt;4534460224* -->\n<g id=\"edge13\" class=\"edge\">\n<title>4534459552&#45;&gt;4534460224*</title>\n<path fill=\"none\" stroke=\"black\" d=\"M204.38,-128.5C213.37,-128.5 222.01,-128.5 229.84,-128.5\"/>\n<polygon fill=\"black\" stroke=\"black\" points=\"229.97,-132 239.97,-128.5 229.97,-125 229.97,-132\"/>\n</g>\n<!-- 4534898896 -->\n<g id=\"node6\" class=\"node\">\n<title>4534898896</title>\n<polygon fill=\"none\" stroke=\"black\" points=\"332.5,-55.5 332.5,-91.5 547.5,-91.5 547.5,-55.5 332.5,-55.5\"/>\n<text text-anchor=\"middle\" x=\"359\" y=\"-69.8\" font-family=\"Times,serif\" font-size=\"14.00\">x2*w2</text>\n<polyline fill=\"none\" stroke=\"black\" points=\"385.5,-55.5 385.5,-91.5 \"/>\n<text text-anchor=\"middle\" x=\"425.5\" y=\"-69.8\" font-family=\"Times,serif\" font-size=\"14.00\">data 0.0000</text>\n<polyline fill=\"none\" stroke=\"black\" points=\"465.5,-55.5 465.5,-91.5 \"/>\n<text text-anchor=\"middle\" x=\"506.5\" y=\"-69.8\" font-family=\"Times,serif\" font-size=\"14.00\">grad 0.5000</text>\n</g>\n<!-- 4534898992+ -->\n<g id=\"node10\" class=\"node\">\n<title>4534898992+</title>\n<ellipse fill=\"none\" stroke=\"black\" cx=\"613\" cy=\"-100.5\" rx=\"27\" ry=\"18\"/>\n<text text-anchor=\"middle\" x=\"613\" y=\"-96.8\" font-family=\"Times,serif\" font-size=\"14.00\">+</text>\n</g>\n<!-- 4534898896&#45;&gt;4534898992+ -->\n<g id=\"edge7\" class=\"edge\">\n<title>4534898896&#45;&gt;4534898992+</title>\n<path fill=\"none\" stroke=\"black\" d=\"M547.84,-90.37C558.01,-91.98 567.76,-93.51 576.44,-94.89\"/>\n<polygon fill=\"black\" stroke=\"black\" points=\"576.05,-98.37 586.47,-96.47 577.14,-91.45 576.05,-98.37\"/>\n</g>\n<!-- 4534898896*&#45;&gt;4534898896 -->\n<g id=\"edge2\" class=\"edge\">\n<title>4534898896*&#45;&gt;4534898896</title>\n<path fill=\"none\" stroke=\"black\" d=\"M294.34,-73.5C302.51,-73.5 312.08,-73.5 322.36,-73.5\"/>\n<polygon fill=\"black\" stroke=\"black\" points=\"322.39,-77 332.39,-73.5 322.39,-70 322.39,-77\"/>\n</g>\n<!-- 4534457104 -->\n<g id=\"node8\" class=\"node\">\n<title>4534457104</title>\n<polygon fill=\"none\" stroke=\"black\" points=\"720,-27.5 720,-63.5 905,-63.5 905,-27.5 720,-27.5\"/>\n<text text-anchor=\"middle\" x=\"731.5\" y=\"-41.8\" font-family=\"Times,serif\" font-size=\"14.00\">b</text>\n<polyline fill=\"none\" stroke=\"black\" points=\"743,-27.5 743,-63.5 \"/>\n<text text-anchor=\"middle\" x=\"783\" y=\"-41.8\" font-family=\"Times,serif\" font-size=\"14.00\">data 6.8814</text>\n<polyline fill=\"none\" stroke=\"black\" points=\"823,-27.5 823,-63.5 \"/>\n<text text-anchor=\"middle\" x=\"864\" y=\"-41.8\" font-family=\"Times,serif\" font-size=\"14.00\">grad 0.5000</text>\n</g>\n<!-- 4534457104&#45;&gt;4534899328+ -->\n<g id=\"edge6\" class=\"edge\">\n<title>4534457104&#45;&gt;4534899328+</title>\n<path fill=\"none\" stroke=\"black\" d=\"M905.02,-58.01C930,-61.43 955.59,-64.93 975.37,-67.63\"/>\n<polygon fill=\"black\" stroke=\"black\" points=\"975.05,-71.12 985.43,-69.01 976,-64.18 975.05,-71.12\"/>\n</g>\n<!-- 4534898992 -->\n<g id=\"node9\" class=\"node\">\n<title>4534898992</title>\n<polygon fill=\"none\" stroke=\"black\" points=\"676,-82.5 676,-118.5 949,-118.5 949,-82.5 676,-82.5\"/>\n<text text-anchor=\"middle\" x=\"729\" y=\"-96.8\" font-family=\"Times,serif\" font-size=\"14.00\">x1*w1 + x2*w2</text>\n<polyline fill=\"none\" stroke=\"black\" points=\"782,-82.5 782,-118.5 \"/>\n<text text-anchor=\"middle\" x=\"824.5\" y=\"-96.8\" font-family=\"Times,serif\" font-size=\"14.00\">data &#45;6.0000</text>\n<polyline fill=\"none\" stroke=\"black\" points=\"867,-82.5 867,-118.5 \"/>\n<text text-anchor=\"middle\" x=\"908\" y=\"-96.8\" font-family=\"Times,serif\" font-size=\"14.00\">grad 0.5000</text>\n</g>\n<!-- 4534898992&#45;&gt;4534899328+ -->\n<g id=\"edge11\" class=\"edge\">\n<title>4534898992&#45;&gt;4534899328+</title>\n<path fill=\"none\" stroke=\"black\" d=\"M940.53,-82.49C953.09,-80.71 964.99,-79.02 975.3,-77.56\"/>\n<polygon fill=\"black\" stroke=\"black\" points=\"976.03,-80.99 985.44,-76.12 975.05,-74.06 976.03,-80.99\"/>\n</g>\n<!-- 4534898992+&#45;&gt;4534898992 -->\n<g id=\"edge3\" class=\"edge\">\n<title>4534898992+&#45;&gt;4534898992</title>\n<path fill=\"none\" stroke=\"black\" d=\"M640.23,-100.5C647.7,-100.5 656.41,-100.5 665.87,-100.5\"/>\n<polygon fill=\"black\" stroke=\"black\" points=\"665.98,-104 675.98,-100.5 665.98,-97 665.98,-104\"/>\n</g>\n<!-- 4534899520 -->\n<g id=\"node11\" class=\"node\">\n<title>4534899520</title>\n<polygon fill=\"none\" stroke=\"black\" points=\"1386,-54.5 1386,-90.5 1571,-90.5 1571,-54.5 1386,-54.5\"/>\n<text text-anchor=\"middle\" x=\"1397.5\" y=\"-68.8\" font-family=\"Times,serif\" font-size=\"14.00\">o</text>\n<polyline fill=\"none\" stroke=\"black\" points=\"1409,-54.5 1409,-90.5 \"/>\n<text text-anchor=\"middle\" x=\"1449\" y=\"-68.8\" font-family=\"Times,serif\" font-size=\"14.00\">data 0.7071</text>\n<polyline fill=\"none\" stroke=\"black\" points=\"1489,-54.5 1489,-90.5 \"/>\n<text text-anchor=\"middle\" x=\"1530\" y=\"-68.8\" font-family=\"Times,serif\" font-size=\"14.00\">grad 1.0000</text>\n</g>\n<!-- 4534899520tanh&#45;&gt;4534899520 -->\n<g id=\"edge4\" class=\"edge\">\n<title>4534899520tanh&#45;&gt;4534899520</title>\n<path fill=\"none\" stroke=\"black\" d=\"M1350.04,-72.5C1357.58,-72.5 1366.3,-72.5 1375.57,-72.5\"/>\n<polygon fill=\"black\" stroke=\"black\" points=\"1375.81,-76 1385.81,-72.5 1375.81,-69 1375.81,-76\"/>\n</g>\n<!-- 4534460224 -->\n<g id=\"node13\" class=\"node\">\n<title>4534460224</title>\n<polygon fill=\"none\" stroke=\"black\" points=\"330,-110.5 330,-146.5 550,-146.5 550,-110.5 330,-110.5\"/>\n<text text-anchor=\"middle\" x=\"356.5\" y=\"-124.8\" font-family=\"Times,serif\" font-size=\"14.00\">x1*w1</text>\n<polyline fill=\"none\" stroke=\"black\" points=\"383,-110.5 383,-146.5 \"/>\n<text text-anchor=\"middle\" x=\"425.5\" y=\"-124.8\" font-family=\"Times,serif\" font-size=\"14.00\">data &#45;6.0000</text>\n<polyline fill=\"none\" stroke=\"black\" points=\"468,-110.5 468,-146.5 \"/>\n<text text-anchor=\"middle\" x=\"509\" y=\"-124.8\" font-family=\"Times,serif\" font-size=\"14.00\">grad 0.5000</text>\n</g>\n<!-- 4534460224&#45;&gt;4534898992+ -->\n<g id=\"edge10\" class=\"edge\">\n<title>4534460224&#45;&gt;4534898992+</title>\n<path fill=\"none\" stroke=\"black\" d=\"M550.27,-110.61C559.64,-109.07 568.6,-107.61 576.65,-106.29\"/>\n<polygon fill=\"black\" stroke=\"black\" points=\"577.35,-109.72 586.65,-104.65 576.22,-102.81 577.35,-109.72\"/>\n</g>\n<!-- 4534460224*&#45;&gt;4534460224 -->\n<g id=\"edge5\" class=\"edge\">\n<title>4534460224*&#45;&gt;4534460224</title>\n<path fill=\"none\" stroke=\"black\" d=\"M294.34,-128.5C301.77,-128.5 310.37,-128.5 319.6,-128.5\"/>\n<polygon fill=\"black\" stroke=\"black\" points=\"319.84,-132 329.84,-128.5 319.84,-125 319.84,-132\"/>\n</g>\n<!-- 4534457776 -->\n<g id=\"node15\" class=\"node\">\n<title>4534457776</title>\n<polygon fill=\"none\" stroke=\"black\" points=\"6,-0.5 6,-36.5 198,-36.5 198,-0.5 6,-0.5\"/>\n<text text-anchor=\"middle\" x=\"21\" y=\"-14.8\" font-family=\"Times,serif\" font-size=\"14.00\">x2</text>\n<polyline fill=\"none\" stroke=\"black\" points=\"36,-0.5 36,-36.5 \"/>\n<text text-anchor=\"middle\" x=\"76\" y=\"-14.8\" font-family=\"Times,serif\" font-size=\"14.00\">data 0.0000</text>\n<polyline fill=\"none\" stroke=\"black\" points=\"116,-0.5 116,-36.5 \"/>\n<text text-anchor=\"middle\" x=\"157\" y=\"-14.8\" font-family=\"Times,serif\" font-size=\"14.00\">grad 0.5000</text>\n</g>\n<!-- 4534457776&#45;&gt;4534898896* -->\n<g id=\"edge9\" class=\"edge\">\n<title>4534457776&#45;&gt;4534898896*</title>\n<path fill=\"none\" stroke=\"black\" d=\"M172.94,-36.51C183.43,-39.61 194.05,-42.97 204,-46.5 214.29,-50.15 225.29,-54.71 235.12,-59.04\"/>\n<polygon fill=\"black\" stroke=\"black\" points=\"233.94,-62.34 244.49,-63.25 236.8,-55.96 233.94,-62.34\"/>\n</g>\n</g>\n</svg>\n",
      "text/plain": [
       "<graphviz.graphs.Digraph at 0x10e4d1490>"
      ]
     },
     "execution_count": 102,
     "metadata": {},
     "output_type": "execute_result"
    }
   ],
   "source": [
    "draw_dot(o)"
   ]
  },
  {
   "cell_type": "code",
   "execution_count": 93,
   "metadata": {},
   "outputs": [],
   "source": [
    "o.grad = 1.0"
   ]
  },
  {
   "cell_type": "code",
   "execution_count": 94,
   "metadata": {},
   "outputs": [],
   "source": [
    "o._backward()"
   ]
  },
  {
   "cell_type": "code",
   "execution_count": 96,
   "metadata": {},
   "outputs": [],
   "source": [
    "n._backward()"
   ]
  },
  {
   "cell_type": "code",
   "execution_count": 98,
   "metadata": {},
   "outputs": [],
   "source": [
    "b._backward()"
   ]
  },
  {
   "cell_type": "code",
   "execution_count": 99,
   "metadata": {},
   "outputs": [],
   "source": [
    "x1w1x2w2._backward()\n"
   ]
  },
  {
   "cell_type": "code",
   "execution_count": 101,
   "metadata": {},
   "outputs": [],
   "source": [
    "x2w2._backward()\n",
    "x1w1._backward()"
   ]
  },
  {
   "cell_type": "code",
   "execution_count": 46,
   "metadata": {},
   "outputs": [
    {
     "data": {
      "image/svg+xml": "<?xml version=\"1.0\" encoding=\"UTF-8\" standalone=\"no\"?>\n<!DOCTYPE svg PUBLIC \"-//W3C//DTD SVG 1.1//EN\"\n \"http://www.w3.org/Graphics/SVG/1.1/DTD/svg11.dtd\">\n<!-- Generated by graphviz version 2.50.0 (0)\n -->\n<!-- Pages: 1 -->\n<svg width=\"1546pt\" height=\"210pt\"\n viewBox=\"0.00 0.00 1546.00 210.00\" xmlns=\"http://www.w3.org/2000/svg\" xmlns:xlink=\"http://www.w3.org/1999/xlink\">\n<g id=\"graph0\" class=\"graph\" transform=\"scale(1 1) rotate(0) translate(4 206)\">\n<polygon fill=\"white\" stroke=\"transparent\" points=\"-4,4 -4,-206 1542,-206 1542,4 -4,4\"/>\n<!-- 4533247520 -->\n<g id=\"node1\" class=\"node\">\n<title>4533247520</title>\n<polygon fill=\"none\" stroke=\"black\" points=\"672,-82.5 672,-118.5 916,-118.5 916,-82.5 672,-82.5\"/>\n<text text-anchor=\"middle\" x=\"710.5\" y=\"-96.8\" font-family=\"Times,serif\" font-size=\"14.00\">x1w1x2w2</text>\n<polyline fill=\"none\" stroke=\"black\" points=\"749,-82.5 749,-118.5 \"/>\n<text text-anchor=\"middle\" x=\"791.5\" y=\"-96.8\" font-family=\"Times,serif\" font-size=\"14.00\">data &#45;6.0000</text>\n<polyline fill=\"none\" stroke=\"black\" points=\"834,-82.5 834,-118.5 \"/>\n<text text-anchor=\"middle\" x=\"875\" y=\"-96.8\" font-family=\"Times,serif\" font-size=\"14.00\">grad 0.5000</text>\n</g>\n<!-- 4533245840+ -->\n<g id=\"node13\" class=\"node\">\n<title>4533245840+</title>\n<ellipse fill=\"none\" stroke=\"black\" cx=\"979\" cy=\"-127.5\" rx=\"27\" ry=\"18\"/>\n<text text-anchor=\"middle\" x=\"979\" y=\"-123.8\" font-family=\"Times,serif\" font-size=\"14.00\">+</text>\n</g>\n<!-- 4533247520&#45;&gt;4533245840+ -->\n<g id=\"edge13\" class=\"edge\">\n<title>4533247520&#45;&gt;4533245840+</title>\n<path fill=\"none\" stroke=\"black\" d=\"M916.04,-118.36C925.47,-119.75 934.43,-121.07 942.46,-122.26\"/>\n<polygon fill=\"black\" stroke=\"black\" points=\"942.03,-125.73 952.43,-123.73 943.05,-118.81 942.03,-125.73\"/>\n</g>\n<!-- 4533247520+ -->\n<g id=\"node2\" class=\"node\">\n<title>4533247520+</title>\n<ellipse fill=\"none\" stroke=\"black\" cx=\"609\" cy=\"-100.5\" rx=\"27\" ry=\"18\"/>\n<text text-anchor=\"middle\" x=\"609\" y=\"-96.8\" font-family=\"Times,serif\" font-size=\"14.00\">+</text>\n</g>\n<!-- 4533247520+&#45;&gt;4533247520 -->\n<g id=\"edge1\" class=\"edge\">\n<title>4533247520+&#45;&gt;4533247520</title>\n<path fill=\"none\" stroke=\"black\" d=\"M636.22,-100.5C643.7,-100.5 652.4,-100.5 661.79,-100.5\"/>\n<polygon fill=\"black\" stroke=\"black\" points=\"661.8,-104 671.8,-100.5 661.8,-97 661.8,-104\"/>\n</g>\n<!-- 4532992560 -->\n<g id=\"node3\" class=\"node\">\n<title>4532992560</title>\n<polygon fill=\"none\" stroke=\"black\" points=\"0,-165.5 0,-201.5 200,-201.5 200,-165.5 0,-165.5\"/>\n<text text-anchor=\"middle\" x=\"16.5\" y=\"-179.8\" font-family=\"Times,serif\" font-size=\"14.00\">w1</text>\n<polyline fill=\"none\" stroke=\"black\" points=\"33,-165.5 33,-201.5 \"/>\n<text text-anchor=\"middle\" x=\"75.5\" y=\"-179.8\" font-family=\"Times,serif\" font-size=\"14.00\">data &#45;3.0000</text>\n<polyline fill=\"none\" stroke=\"black\" points=\"118,-165.5 118,-201.5 \"/>\n<text text-anchor=\"middle\" x=\"159\" y=\"-179.8\" font-family=\"Times,serif\" font-size=\"14.00\">grad 1.0000</text>\n</g>\n<!-- 4533246176* -->\n<g id=\"node5\" class=\"node\">\n<title>4533246176*</title>\n<ellipse fill=\"none\" stroke=\"black\" cx=\"263\" cy=\"-128.5\" rx=\"27\" ry=\"18\"/>\n<text text-anchor=\"middle\" x=\"263\" y=\"-124.8\" font-family=\"Times,serif\" font-size=\"14.00\">*</text>\n</g>\n<!-- 4532992560&#45;&gt;4533246176* -->\n<g id=\"edge14\" class=\"edge\">\n<title>4532992560&#45;&gt;4533246176*</title>\n<path fill=\"none\" stroke=\"black\" d=\"M172.53,-165.44C181.84,-162.67 191.2,-159.67 200,-156.5 210.53,-152.71 221.75,-147.9 231.72,-143.33\"/>\n<polygon fill=\"black\" stroke=\"black\" points=\"233.25,-146.48 240.82,-139.07 230.28,-140.14 233.25,-146.48\"/>\n</g>\n<!-- 4533246176 -->\n<g id=\"node4\" class=\"node\">\n<title>4533246176</title>\n<polygon fill=\"none\" stroke=\"black\" points=\"326,-110.5 326,-146.5 546,-146.5 546,-110.5 326,-110.5\"/>\n<text text-anchor=\"middle\" x=\"352.5\" y=\"-124.8\" font-family=\"Times,serif\" font-size=\"14.00\">x1*w1</text>\n<polyline fill=\"none\" stroke=\"black\" points=\"379,-110.5 379,-146.5 \"/>\n<text text-anchor=\"middle\" x=\"421.5\" y=\"-124.8\" font-family=\"Times,serif\" font-size=\"14.00\">data &#45;6.0000</text>\n<polyline fill=\"none\" stroke=\"black\" points=\"464,-110.5 464,-146.5 \"/>\n<text text-anchor=\"middle\" x=\"505\" y=\"-124.8\" font-family=\"Times,serif\" font-size=\"14.00\">grad 0.5000</text>\n</g>\n<!-- 4533246176&#45;&gt;4533247520+ -->\n<g id=\"edge6\" class=\"edge\">\n<title>4533246176&#45;&gt;4533247520+</title>\n<path fill=\"none\" stroke=\"black\" d=\"M546.27,-110.61C555.64,-109.07 564.6,-107.61 572.65,-106.29\"/>\n<polygon fill=\"black\" stroke=\"black\" points=\"573.35,-109.72 582.65,-104.65 572.22,-102.81 573.35,-109.72\"/>\n</g>\n<!-- 4533246176*&#45;&gt;4533246176 -->\n<g id=\"edge2\" class=\"edge\">\n<title>4533246176*&#45;&gt;4533246176</title>\n<path fill=\"none\" stroke=\"black\" d=\"M290.34,-128.5C297.77,-128.5 306.37,-128.5 315.6,-128.5\"/>\n<polygon fill=\"black\" stroke=\"black\" points=\"315.84,-132 325.84,-128.5 315.84,-125 315.84,-132\"/>\n</g>\n<!-- 4533178128 -->\n<g id=\"node6\" class=\"node\">\n<title>4533178128</title>\n<polygon fill=\"none\" stroke=\"black\" points=\"1353,-109.5 1353,-145.5 1538,-145.5 1538,-109.5 1353,-109.5\"/>\n<text text-anchor=\"middle\" x=\"1364.5\" y=\"-123.8\" font-family=\"Times,serif\" font-size=\"14.00\">o</text>\n<polyline fill=\"none\" stroke=\"black\" points=\"1376,-109.5 1376,-145.5 \"/>\n<text text-anchor=\"middle\" x=\"1416\" y=\"-123.8\" font-family=\"Times,serif\" font-size=\"14.00\">data 0.7071</text>\n<polyline fill=\"none\" stroke=\"black\" points=\"1456,-109.5 1456,-145.5 \"/>\n<text text-anchor=\"middle\" x=\"1497\" y=\"-123.8\" font-family=\"Times,serif\" font-size=\"14.00\">grad 1.0000</text>\n</g>\n<!-- 4533178128tanh -->\n<g id=\"node7\" class=\"node\">\n<title>4533178128tanh</title>\n<ellipse fill=\"none\" stroke=\"black\" cx=\"1290\" cy=\"-127.5\" rx=\"27\" ry=\"18\"/>\n<text text-anchor=\"middle\" x=\"1290\" y=\"-123.8\" font-family=\"Times,serif\" font-size=\"14.00\">tanh</text>\n</g>\n<!-- 4533178128tanh&#45;&gt;4533178128 -->\n<g id=\"edge3\" class=\"edge\">\n<title>4533178128tanh&#45;&gt;4533178128</title>\n<path fill=\"none\" stroke=\"black\" d=\"M1317.04,-127.5C1324.58,-127.5 1333.3,-127.5 1342.57,-127.5\"/>\n<polygon fill=\"black\" stroke=\"black\" points=\"1342.81,-131 1352.81,-127.5 1342.81,-124 1342.81,-131\"/>\n</g>\n<!-- 4532990784 -->\n<g id=\"node8\" class=\"node\">\n<title>4532990784</title>\n<polygon fill=\"none\" stroke=\"black\" points=\"2,-110.5 2,-146.5 198,-146.5 198,-110.5 2,-110.5\"/>\n<text text-anchor=\"middle\" x=\"17\" y=\"-124.8\" font-family=\"Times,serif\" font-size=\"14.00\">x1</text>\n<polyline fill=\"none\" stroke=\"black\" points=\"32,-110.5 32,-146.5 \"/>\n<text text-anchor=\"middle\" x=\"72\" y=\"-124.8\" font-family=\"Times,serif\" font-size=\"14.00\">data 2.0000</text>\n<polyline fill=\"none\" stroke=\"black\" points=\"112,-110.5 112,-146.5 \"/>\n<text text-anchor=\"middle\" x=\"155\" y=\"-124.8\" font-family=\"Times,serif\" font-size=\"14.00\">grad &#45;1.5000</text>\n</g>\n<!-- 4532990784&#45;&gt;4533246176* -->\n<g id=\"edge12\" class=\"edge\">\n<title>4532990784&#45;&gt;4533246176*</title>\n<path fill=\"none\" stroke=\"black\" d=\"M198.37,-128.5C208.05,-128.5 217.4,-128.5 225.8,-128.5\"/>\n<polygon fill=\"black\" stroke=\"black\" points=\"225.91,-132 235.91,-128.5 225.91,-125 225.91,-132\"/>\n</g>\n<!-- 4533245264 -->\n<g id=\"node9\" class=\"node\">\n<title>4533245264</title>\n<polygon fill=\"none\" stroke=\"black\" points=\"701.5,-137.5 701.5,-173.5 886.5,-173.5 886.5,-137.5 701.5,-137.5\"/>\n<text text-anchor=\"middle\" x=\"713\" y=\"-151.8\" font-family=\"Times,serif\" font-size=\"14.00\">b</text>\n<polyline fill=\"none\" stroke=\"black\" points=\"724.5,-137.5 724.5,-173.5 \"/>\n<text text-anchor=\"middle\" x=\"764.5\" y=\"-151.8\" font-family=\"Times,serif\" font-size=\"14.00\">data 6.8814</text>\n<polyline fill=\"none\" stroke=\"black\" points=\"804.5,-137.5 804.5,-173.5 \"/>\n<text text-anchor=\"middle\" x=\"845.5\" y=\"-151.8\" font-family=\"Times,serif\" font-size=\"14.00\">grad 0.5000</text>\n</g>\n<!-- 4533245264&#45;&gt;4533245840+ -->\n<g id=\"edge11\" class=\"edge\">\n<title>4533245264&#45;&gt;4533245840+</title>\n<path fill=\"none\" stroke=\"black\" d=\"M886.77,-141.46C906.52,-138.44 926.26,-135.42 942.29,-132.96\"/>\n<polygon fill=\"black\" stroke=\"black\" points=\"942.9,-136.41 952.26,-131.44 941.85,-129.49 942.9,-136.41\"/>\n</g>\n<!-- 4533245792 -->\n<g id=\"node10\" class=\"node\">\n<title>4533245792</title>\n<polygon fill=\"none\" stroke=\"black\" points=\"328.5,-55.5 328.5,-91.5 543.5,-91.5 543.5,-55.5 328.5,-55.5\"/>\n<text text-anchor=\"middle\" x=\"355\" y=\"-69.8\" font-family=\"Times,serif\" font-size=\"14.00\">x2*w2</text>\n<polyline fill=\"none\" stroke=\"black\" points=\"381.5,-55.5 381.5,-91.5 \"/>\n<text text-anchor=\"middle\" x=\"421.5\" y=\"-69.8\" font-family=\"Times,serif\" font-size=\"14.00\">data 0.0000</text>\n<polyline fill=\"none\" stroke=\"black\" points=\"461.5,-55.5 461.5,-91.5 \"/>\n<text text-anchor=\"middle\" x=\"502.5\" y=\"-69.8\" font-family=\"Times,serif\" font-size=\"14.00\">grad 0.5000</text>\n</g>\n<!-- 4533245792&#45;&gt;4533247520+ -->\n<g id=\"edge8\" class=\"edge\">\n<title>4533245792&#45;&gt;4533247520+</title>\n<path fill=\"none\" stroke=\"black\" d=\"M543.84,-90.37C554.01,-91.98 563.76,-93.51 572.44,-94.89\"/>\n<polygon fill=\"black\" stroke=\"black\" points=\"572.05,-98.37 582.47,-96.47 573.14,-91.45 572.05,-98.37\"/>\n</g>\n<!-- 4533245792* -->\n<g id=\"node11\" class=\"node\">\n<title>4533245792*</title>\n<ellipse fill=\"none\" stroke=\"black\" cx=\"263\" cy=\"-73.5\" rx=\"27\" ry=\"18\"/>\n<text text-anchor=\"middle\" x=\"263\" y=\"-69.8\" font-family=\"Times,serif\" font-size=\"14.00\">*</text>\n</g>\n<!-- 4533245792*&#45;&gt;4533245792 -->\n<g id=\"edge4\" class=\"edge\">\n<title>4533245792*&#45;&gt;4533245792</title>\n<path fill=\"none\" stroke=\"black\" d=\"M290.34,-73.5C298.51,-73.5 308.08,-73.5 318.36,-73.5\"/>\n<polygon fill=\"black\" stroke=\"black\" points=\"318.39,-77 328.39,-73.5 318.39,-70 318.39,-77\"/>\n</g>\n<!-- 4533245840 -->\n<g id=\"node12\" class=\"node\">\n<title>4533245840</title>\n<polygon fill=\"none\" stroke=\"black\" points=\"1042,-109.5 1042,-145.5 1227,-145.5 1227,-109.5 1042,-109.5\"/>\n<text text-anchor=\"middle\" x=\"1053.5\" y=\"-123.8\" font-family=\"Times,serif\" font-size=\"14.00\">n</text>\n<polyline fill=\"none\" stroke=\"black\" points=\"1065,-109.5 1065,-145.5 \"/>\n<text text-anchor=\"middle\" x=\"1105\" y=\"-123.8\" font-family=\"Times,serif\" font-size=\"14.00\">data 0.8814</text>\n<polyline fill=\"none\" stroke=\"black\" points=\"1145,-109.5 1145,-145.5 \"/>\n<text text-anchor=\"middle\" x=\"1186\" y=\"-123.8\" font-family=\"Times,serif\" font-size=\"14.00\">grad 0.5000</text>\n</g>\n<!-- 4533245840&#45;&gt;4533178128tanh -->\n<g id=\"edge9\" class=\"edge\">\n<title>4533245840&#45;&gt;4533178128tanh</title>\n<path fill=\"none\" stroke=\"black\" d=\"M1227.01,-127.5C1236.01,-127.5 1244.74,-127.5 1252.66,-127.5\"/>\n<polygon fill=\"black\" stroke=\"black\" points=\"1252.91,-131 1262.91,-127.5 1252.91,-124 1252.91,-131\"/>\n</g>\n<!-- 4533245840+&#45;&gt;4533245840 -->\n<g id=\"edge5\" class=\"edge\">\n<title>4533245840+&#45;&gt;4533245840</title>\n<path fill=\"none\" stroke=\"black\" d=\"M1006.04,-127.5C1013.58,-127.5 1022.3,-127.5 1031.57,-127.5\"/>\n<polygon fill=\"black\" stroke=\"black\" points=\"1031.81,-131 1041.81,-127.5 1031.81,-124 1031.81,-131\"/>\n</g>\n<!-- 4532990880 -->\n<g id=\"node14\" class=\"node\">\n<title>4532990880</title>\n<polygon fill=\"none\" stroke=\"black\" points=\"4,-55.5 4,-91.5 196,-91.5 196,-55.5 4,-55.5\"/>\n<text text-anchor=\"middle\" x=\"19\" y=\"-69.8\" font-family=\"Times,serif\" font-size=\"14.00\">x2</text>\n<polyline fill=\"none\" stroke=\"black\" points=\"34,-55.5 34,-91.5 \"/>\n<text text-anchor=\"middle\" x=\"74\" y=\"-69.8\" font-family=\"Times,serif\" font-size=\"14.00\">data 0.0000</text>\n<polyline fill=\"none\" stroke=\"black\" points=\"114,-55.5 114,-91.5 \"/>\n<text text-anchor=\"middle\" x=\"155\" y=\"-69.8\" font-family=\"Times,serif\" font-size=\"14.00\">grad 0.5000</text>\n</g>\n<!-- 4532990880&#45;&gt;4533245792* -->\n<g id=\"edge7\" class=\"edge\">\n<title>4532990880&#45;&gt;4533245792*</title>\n<path fill=\"none\" stroke=\"black\" d=\"M196.05,-73.5C206.52,-73.5 216.65,-73.5 225.71,-73.5\"/>\n<polygon fill=\"black\" stroke=\"black\" points=\"225.79,-77 235.79,-73.5 225.79,-70 225.79,-77\"/>\n</g>\n<!-- 4533246416 -->\n<g id=\"node15\" class=\"node\">\n<title>4533246416</title>\n<polygon fill=\"none\" stroke=\"black\" points=\"2.5,-0.5 2.5,-36.5 197.5,-36.5 197.5,-0.5 2.5,-0.5\"/>\n<text text-anchor=\"middle\" x=\"19\" y=\"-14.8\" font-family=\"Times,serif\" font-size=\"14.00\">w2</text>\n<polyline fill=\"none\" stroke=\"black\" points=\"35.5,-0.5 35.5,-36.5 \"/>\n<text text-anchor=\"middle\" x=\"75.5\" y=\"-14.8\" font-family=\"Times,serif\" font-size=\"14.00\">data 1.0000</text>\n<polyline fill=\"none\" stroke=\"black\" points=\"115.5,-0.5 115.5,-36.5 \"/>\n<text text-anchor=\"middle\" x=\"156.5\" y=\"-14.8\" font-family=\"Times,serif\" font-size=\"14.00\">grad 0.0000</text>\n</g>\n<!-- 4533246416&#45;&gt;4533245792* -->\n<g id=\"edge10\" class=\"edge\">\n<title>4533246416&#45;&gt;4533245792*</title>\n<path fill=\"none\" stroke=\"black\" d=\"M169.28,-36.5C179.65,-39.61 190.16,-42.98 200,-46.5 210.28,-50.17 221.28,-54.74 231.11,-59.07\"/>\n<polygon fill=\"black\" stroke=\"black\" points=\"229.93,-62.37 240.48,-63.27 232.79,-55.99 229.93,-62.37\"/>\n</g>\n</g>\n</svg>\n",
      "text/plain": [
       "<graphviz.graphs.Digraph at 0x10e397310>"
      ]
     },
     "execution_count": 46,
     "metadata": {},
     "output_type": "execute_result"
    }
   ],
   "source": [
    "#lets compute the gradient - back propagation\n",
    "o.grad = 1\n",
    "n.grad = 0.5 # 1 - o.data**2 as o = tanh(n) then do/dn = 1 - o**2\n",
    "#please remember that the plus operation is just a distributor of gradient the n gradient will just flow to x1w1+x2w2 and b equally\n",
    "#it is because the local derivative is 1 so it is 1 times each previous item\n",
    "#derivative is telling us the contribution is positive to the outcome\n",
    "x1w1x2w2.grad = 0.5\n",
    "b.grad = 0.5\n",
    "x1w1.grad = 0.5\n",
    "x2w2.grad = 0.5\n",
    "# for the times term the local derivative is  the other term # \n",
    "x2.grad = w2.data * x2w2.grad\n",
    "w2.grad = x2.data * x2w2.grad\n",
    "x1.grad = w1.data * x1w1.grad\n",
    "w1.grad = x1.data * x1w1.grad\n",
    "\n",
    "\n",
    "draw_dot(o)"
   ]
  },
  {
   "cell_type": "code",
   "execution_count": null,
   "metadata": {},
   "outputs": [],
   "source": []
  },
  {
   "cell_type": "markdown",
   "metadata": {},
   "source": []
  },
  {
   "cell_type": "code",
   "execution_count": null,
   "metadata": {},
   "outputs": [],
   "source": []
  }
 ],
 "metadata": {
  "kernelspec": {
   "display_name": "Python 3.9.15 ('mgrad')",
   "language": "python",
   "name": "python3"
  },
  "language_info": {
   "codemirror_mode": {
    "name": "ipython",
    "version": 3
   },
   "file_extension": ".py",
   "mimetype": "text/x-python",
   "name": "python",
   "nbconvert_exporter": "python",
   "pygments_lexer": "ipython3",
   "version": "3.9.15"
  },
  "orig_nbformat": 4,
  "vscode": {
   "interpreter": {
    "hash": "485522da234722d6a59122965f1086ac2b141b7f0e0cced6aa6537328a90b5de"
   }
  }
 },
 "nbformat": 4,
 "nbformat_minor": 2
}
