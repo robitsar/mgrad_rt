{
 "cells": [
  {
   "cell_type": "code",
   "execution_count": null,
   "metadata": {},
   "outputs": [],
   "source": [
    "import math\n",
    "import numpy as np\n",
    "import matplotlib.pyplot as plt\n",
    "%matplotlib inline"
   ]
  },
  {
   "cell_type": "markdown",
   "metadata": {},
   "source": [
    "**what a derivative is and what information this tool provides:**\n",
    "\n",
    "The derivative is the instantaneous rate of change of a function with respect to one of its variables. This is equivalent to finding the slope of the tangent line to the function at a point."
   ]
  },
  {
   "cell_type": "code",
   "execution_count": null,
   "metadata": {},
   "outputs": [],
   "source": [
    "#This is a scalar function: get single scalar x and returns a single scalar\n",
    "#It is the equation of a parabola quatratic \n",
    "def f(x):\n",
    "    return 3*x**2 - 4*x + 5"
   ]
  },
  {
   "cell_type": "code",
   "execution_count": null,
   "metadata": {},
   "outputs": [],
   "source": [
    "print(f(3.0))"
   ]
  },
  {
   "cell_type": "markdown",
   "metadata": {},
   "source": [
    "Plot the function to understand its shape"
   ]
  },
  {
   "cell_type": "code",
   "execution_count": null,
   "metadata": {},
   "outputs": [],
   "source": [
    "#let create a list of scalars\n",
    "xs = np.arange (-5,5,0.25)\n",
    "#xs\n",
    "ys = f(xs)\n",
    "ys"
   ]
  },
  {
   "cell_type": "code",
   "execution_count": null,
   "metadata": {},
   "outputs": [],
   "source": [
    "print (ys)"
   ]
  },
  {
   "cell_type": "code",
   "execution_count": null,
   "metadata": {},
   "outputs": [],
   "source": [
    "plt.plot(xs,ys)"
   ]
  },
  {
   "cell_type": "markdown",
   "metadata": {},
   "source": [
    "Question: what is the derivative of this functions at any single input point x ? What is the derivative at different points x of this function? \n",
    "What the derivative is measuring and what it's telling about the function?\n",
    "\n",
    "If we slight change the at some point a small number h how does the function respond.\n",
    "What is the sensitivity of the slope at that point? it is going down and up and by how much?\n",
    "\n",
    "L = lim (h->0) (f(a+h) - f(a))/h"
   ]
  },
  {
   "cell_type": "code",
   "execution_count": null,
   "metadata": {},
   "outputs": [],
   "source": [
    "\n",
    "# 3*x**2 - 4*x + 5 = 6X - 4 => 6*3 - 4 = 18 - 4 = 14\n",
    "h = 0.000001\n",
    "x = 2/3\n",
    "(f(x+h) - f(x))/h"
   ]
  },
  {
   "cell_type": "code",
   "execution_count": null,
   "metadata": {},
   "outputs": [],
   "source": [
    "#function of three scalars\n",
    "a = 2.0\n",
    "b = -3.0\n",
    "c = 10.0\n",
    "d = a*b + c\n",
    "print(d)"
   ]
  },
  {
   "cell_type": "code",
   "execution_count": null,
   "metadata": {},
   "outputs": [],
   "source": [
    "#get a very small value of h\n",
    "h = 0.0001\n",
    "#inputs\n",
    "a = 2.0\n",
    "b = -3.0\n",
    "c = 10.0\n",
    "\n",
    "#find the derivative of d at all that points\n",
    "d1 = a*b + c\n",
    "a += h\n",
    "d2 = a*b + c #by calculus the diffentiation of a*b + c - it is just b what is negative number\n",
    "\n",
    "print('d1', d1)\n",
    "print('d2', d2)\n",
    "#d1 - d2 it is how much the function increases (d2 compare to d1) and this is normalise by h (the tiny amount bump in in d2) to get the slope\n",
    "print('slope', (d2 - d1)/h)\n",
    "#d2 will be slightly less then d1 as the scalar b is negative, if even we add a positive amount to a\n"
   ]
  },
  {
   "cell_type": "code",
   "execution_count": null,
   "metadata": {},
   "outputs": [],
   "source": [
    "#find the derivative of d at all that points\n",
    "# in respect of b\n",
    "d1 = a*b + c\n",
    "b += h #it is adding more to b\n",
    "d2 = a*b + c #by calculus the diffentiation in respect to a of a*b + c - it is b with is 2\n",
    "\n",
    "print('d1', d1)\n",
    "print('d2', d2)\n",
    "#d1 - d2 it is how much the function increases (d2 compare to d1) and this is normalise by h (the tiny amount bump in in d2) to get the slope\n",
    "print('slope', (d2 - d1)/h)\n",
    "#d2 as a is positive it means to add more to b"
   ]
  },
  {
   "cell_type": "code",
   "execution_count": null,
   "metadata": {},
   "outputs": [],
   "source": [
    "#find the derivative of d at all that points\n",
    "#in respect of c\n",
    "d1 = a*b + c\n",
    "c += h #it is adding more to d (c will effect for the same amount that we add to c, then 1)\n",
    "d2 = a*b + c #by calculus the diffentiation of a*b + c - it is just b what is negative number\n",
    "\n",
    "print('d1', d1)\n",
    "print('d2', d2)\n",
    "#d1 - d2 it is how much the function increases (d2 compare to d1) and this is normalise by h (the tiny amount bump in in d2) to get the slope\n",
    "print('slope', (d2 - d1)/h)\n"
   ]
  },
  {
   "cell_type": "code",
   "execution_count": null,
   "metadata": {},
   "outputs": [],
   "source": [
    "class Value:\n",
    "    #childre default empty tuple (it introduces for efficiency)\n",
    "    def __init__(self, data, _children=(), _op='', label='', grad=0.0):\n",
    "        self.data = data\n",
    "        self.grad = grad #in initialisation the data does not impact the loss function\n",
    "        self._prev = set(_children)\n",
    "        self._op = _op\n",
    "        self.label = label \n",
    "        \n",
    "    def __repr__(self):\n",
    "        return f\"Value(data={self.data})\"\n",
    "    def __add__(self, other):\n",
    "        out = Value(self.data + other.data, (self, other),'+')\n",
    "        return out\n",
    "    def __mul__(self, other):\n",
    "        out = Value(self.data * other.data, (self, other),'*')\n",
    "        return out\n",
    "    def tanh(self):\n",
    "        x = self.data\n",
    "        t = (math.exp(2*x) - 1) / (math.exp(2*x) + 1)\n",
    "        out = Value(t, (self,), 'tanh')\n",
    "        return out\n",
    "\n",
    "a = Value(2.0, label='a')\n",
    "b = Value(-3.0, label='b')\n",
    "c = Value(10.0, label='c')\n",
    "e = a*b; e.label = 'e'\n",
    "d = e + c; d.label = 'd'\n",
    "#a + b #python does not know how to add two objects together\n",
    "#value object with data = 2\n",
    "#a.__add__(b)\n",
    "#d = a*b + c\n",
    "#(a.__mul__(b)).__add__(c)\n",
    "#d\n",
    "f = Value(-2.0, label = 'f')\n",
    "L = d*f; L.label = 'L'\n",
    "L\n",
    "#d._prev\n",
    "#d._op"
   ]
  },
  {
   "cell_type": "code",
   "execution_count": null,
   "metadata": {},
   "outputs": [],
   "source": [
    "#visualisation the expression\n",
    "\n",
    "from graphviz import Digraph\n",
    "\n",
    "def trace(root):\n",
    "    #builds a set of all nodes and edges in a graph\n",
    "    nodes, edges = set(), set()\n",
    "    def build(v):\n",
    "        if v not in nodes:\n",
    "            nodes.add(v)\n",
    "            for child in v._prev:\n",
    "                edges.add((child, v))\n",
    "                build(child)\n",
    "    #call function build\n",
    "    build(root)   \n",
    "    #return nodes and edges sets \n",
    "    return nodes, edges\n",
    "        \n",
    "def draw_dot(root):\n",
    "    dot = Digraph(format='svg', graph_attr={'rankdir':'LR'})\n",
    "    \n",
    "    nodes, edges = trace(root)\n",
    "    for n in nodes:\n",
    "        uid = str(id(n))\n",
    "        #for any value in the graph, create a rectangular ('record') node for it\n",
    "        dot.node(name = uid, label = \"{%s | data %.4f | grad %.4f }\" % (n.label, n.data, n.grad), shape='record')  \n",
    "        if n._op:\n",
    "            #if this value is a result of some operation, create an op node for it\n",
    "            dot.node(name = uid + n._op, label = n._op) \n",
    "            #and connect this node to it\n",
    "            dot.edge(uid+n._op, uid)\n",
    "    for n1, n2 in edges:\n",
    "        #connect n1 to the op node of n2\n",
    "        dot.edge(str(id(n1)),str(id(n2))+n2._op)\n",
    "    return dot\n"
   ]
  },
  {
   "cell_type": "code",
   "execution_count": null,
   "metadata": {},
   "outputs": [],
   "source": [
    "draw_dot(L)"
   ]
  },
  {
   "cell_type": "code",
   "execution_count": null,
   "metadata": {},
   "outputs": [],
   "source": [
    "#how L is sensitive to c\n",
    "#we know how the impact c impacts d and we know how d impacts L\n",
    "L = d * f #So it will be d so what is the dd/dc\n",
    "d = c + e # it will be 1\n",
    "#(f(x+h) - f(x)) / x\n",
    "#((c+h  + e - (c + e))/ h\n",
    "#(c + h  + e - c - e)/ h\n",
    "#h/h = 1\n",
    "#dd/dc ? = 1.0 \n",
    "#and by symmetry\n",
    "#dd / de = 1.0\n",
    "#chain rule  to get until L (function composition) - intuitive explanation - product of two functions\n",
    "#dz/dx = (dz/dy)*(dy/dx)\n",
    "#find the local gradient\n",
    "\n",
    "#WANT\n",
    "#dL / dc = (dl/ dd) * (dd / dc) = -2.0 * 1.0\n",
    "#dL / da = (dL / de) * (de / da) = -2.0 * -3.0\n",
    "#dL / dbb = (dL / de) * (de / db) = -2.0 * 2.0\n",
    "\n",
    "\n",
    "#KNOW\n",
    "#dL / de = -2.0\n",
    "#e = a * b\n",
    "#de / da ? b\n",
    "#de / db ? a\n",
    "\n",
    "#WE TAKE NODE BY NODE and locally apply the chain rules and we have the pointer to child nodes of these operations\n"
   ]
  },
  {
   "cell_type": "code",
   "execution_count": null,
   "metadata": {},
   "outputs": [],
   "source": [
    "c.grad = -2.0 * 1.0\n",
    "e.grad = -2.0 * 1.0\n",
    "a.grad = -2.0 * -3.0\n",
    "b.grad = -2.0 * 2.0\n",
    "f.grad = 4.0\n",
    "d.grad = -2.0\n",
    "L.grad = 1.0"
   ]
  },
  {
   "cell_type": "code",
   "execution_count": null,
   "metadata": {},
   "outputs": [],
   "source": [
    "#dL/dc = ?f \n",
    "#(f(x+h)-f(x))/h\n",
    "#((d+h)*f - d*f)/h\n",
    "#(d*f + h*f - d*f) /h\n",
    "#(h*f)/h\n",
    "#f\n"
   ]
  },
  {
   "cell_type": "code",
   "execution_count": null,
   "metadata": {},
   "outputs": [],
   "source": [
    "a.data += 0.01 * a.grad\n",
    "b.data += 0.01 * b.grad\n",
    "c.data += 0.01 * c.grad\n",
    "f.data += 0.01 * f.grad\n",
    "\n",
    "e = a * b\n",
    "d = e + c\n",
    "L = d * f\n",
    "\n",
    "print (L.data)\n",
    "#draw_dot(L)\n"
   ]
  },
  {
   "cell_type": "markdown",
   "metadata": {},
   "source": [
    "We compute the derivate in respected to L and all variables respect to the Loss (L) function\n",
    "\n",
    "How does the weight impact the LOSS function? We represent the derivative of the output in respect of L"
   ]
  },
  {
   "cell_type": "code",
   "execution_count": null,
   "metadata": {},
   "outputs": [],
   "source": [
    "def lol():\n",
    "    #change amount in function and check how it behave\n",
    "    h = 0.0001\n",
    "\n",
    "    a = Value(2.0, label='a')\n",
    "    b = Value(-3.0, label='b')\n",
    "    c = Value(10.0, label='c')\n",
    "    e = a*b; e.label = 'e'\n",
    "    d = e + c; d.label = 'd'\n",
    "    f = Value(-2.0, label = 'f')\n",
    "    L = d*f; L.label = 'L'\n",
    "    L1 = L.data #copy the value of the object\n",
    "\n",
    "    a = Value(2.0, label='a')\n",
    "    a.data += h\n",
    "    b = Value(-3.0, label='b')\n",
    "    c = Value(10.0, label='c')\n",
    "    #c.data += h\n",
    "    e = a*b; e.label = 'e'\n",
    "    d = e + c; d.label = 'd'\n",
    "    #d.data += h\n",
    "    f = Value(-2.0, label = 'f')\n",
    "    L = d*f; L.label = 'L'\n",
    "    L2 = L.data\n",
    "    print((L2 -L1)/h)\n",
    "\n",
    "lol()"
   ]
  },
  {
   "cell_type": "code",
   "execution_count": null,
   "metadata": {},
   "outputs": [],
   "source": [
    "#basically neuron, we have synapse and this synapse has weights\n",
    "plt.plot(np.arange(-5,5,0.2), np.tanh(np.arange(-5,5,0.2))); plt.grid();\n",
    "#squash function"
   ]
  },
  {
   "cell_type": "code",
   "execution_count": null,
   "metadata": {},
   "outputs": [],
   "source": [
    "#inputs x1, x2 two dimension neuron\n",
    "x1 = Value(2.0, label='x1')\n",
    "x2 = Value(0.0, label='x2')\n",
    "#weights w1, w2\n",
    "w1 = Value(-3.0, label='w1')\n",
    "w2 = Value(1.0, label='w2')\n",
    "#bias of the neuron\n",
    "b = Value(6.881373, label = 'b')\n",
    "x1w1 = x1*w1; x1w1.label = 'x1*w1'\n",
    "x2w2 = x2*w2; x2w2.label = 'x2*w2'\n",
    "#x1*w1 + x2*w2 \n",
    "x1w1x2w2= x1w1 + x2w2; x1w1x2w2.label = 'x1w1x2w2'\n",
    "n = x1w1x2w2 + b; n.label = 'n'\n",
    "o = n.tanh(); o.label = 'o' #hyperbolic functons\n",
    "draw_dot(o)"
   ]
  },
  {
   "cell_type": "code",
   "execution_count": null,
   "metadata": {},
   "outputs": [],
   "source": []
  }
 ],
 "metadata": {
  "kernelspec": {
   "display_name": "Python 3.9.15 ('mgrad')",
   "language": "python",
   "name": "python3"
  },
  "language_info": {
   "codemirror_mode": {
    "name": "ipython",
    "version": 3
   },
   "file_extension": ".py",
   "mimetype": "text/x-python",
   "name": "python",
   "nbconvert_exporter": "python",
   "pygments_lexer": "ipython3",
   "version": "3.9.15"
  },
  "orig_nbformat": 4,
  "vscode": {
   "interpreter": {
    "hash": "485522da234722d6a59122965f1086ac2b141b7f0e0cced6aa6537328a90b5de"
   }
  }
 },
 "nbformat": 4,
 "nbformat_minor": 2
}
